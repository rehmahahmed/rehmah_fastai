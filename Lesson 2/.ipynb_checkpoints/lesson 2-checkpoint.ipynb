{
 "cells": [
  {
   "cell_type": "code",
   "execution_count": null,
   "metadata": {
    "colab": {
     "base_uri": "https://localhost:8080/"
    },
    "executionInfo": {
     "elapsed": 10949,
     "status": "ok",
     "timestamp": 1761486578445,
     "user": {
      "displayName": "Rehmah Ahmed Batki",
      "userId": "11359513700304139263"
     },
     "user_tz": -330
    },
    "id": "Eu8yeWY-xKUO",
    "outputId": "503547df-65f0-43a3-f3cf-c80677b4364a"
   },
   "outputs": [],
   "source": [
    "pip install ddgs"
   ]
  },
  {
   "cell_type": "code",
   "execution_count": null,
   "metadata": {
    "executionInfo": {
     "elapsed": 17119,
     "status": "ok",
     "timestamp": 1761486595581,
     "user": {
      "displayName": "Rehmah Ahmed Batki",
      "userId": "11359513700304139263"
     },
     "user_tz": -330
    },
    "id": "0mUwXzIyxM8g"
   },
   "outputs": [],
   "source": [
    "from ddgs import DDGS\n",
    "from fastcore.all import *\n",
    "from fastdownload import download_url\n",
    "from fastai.vision.all import *\n",
    "import time, json"
   ]
  },
  {
   "cell_type": "code",
   "execution_count": null,
   "metadata": {
    "executionInfo": {
     "elapsed": 16,
     "status": "ok",
     "timestamp": 1761486595619,
     "user": {
      "displayName": "Rehmah Ahmed Batki",
      "userId": "11359513700304139263"
     },
     "user_tz": -330
    },
    "id": "b5RGAoPpxSAZ"
   },
   "outputs": [],
   "source": [
    "def search_images(keywords, max_images=200):\n",
    "  return L(DDGS().images(keywords, max_results=max_images)).itemgot('image')"
   ]
  },
  {
   "cell_type": "code",
   "execution_count": null,
   "metadata": {
    "colab": {
     "base_uri": "https://localhost:8080/"
    },
    "executionInfo": {
     "elapsed": 1210,
     "status": "ok",
     "timestamp": 1761486596842,
     "user": {
      "displayName": "Rehmah Ahmed Batki",
      "userId": "11359513700304139263"
     },
     "user_tz": -330
    },
    "id": "gs4O5kpLxTOA",
    "outputId": "64d90f32-d35e-47db-e1fc-8888b50eec24"
   },
   "outputs": [],
   "source": [
    "results = search_images('grizzly bear')\n",
    "ims = results\n",
    "len(ims)"
   ]
  },
  {
   "cell_type": "code",
   "execution_count": null,
   "metadata": {
    "colab": {
     "base_uri": "https://localhost:8080/",
     "height": 165
    },
    "executionInfo": {
     "elapsed": 77,
     "status": "ok",
     "timestamp": 1761486596926,
     "user": {
      "displayName": "Rehmah Ahmed Batki",
      "userId": "11359513700304139263"
     },
     "user_tz": -330
    },
    "id": "e1H79uI3xUJO",
    "outputId": "fae24e69-4c70-4268-fe1a-f9ca6f9f0f77"
   },
   "outputs": [],
   "source": [
    "ims = ['http://3.bp.blogspot.com/-S1scRCkI3vY/UHzV2kucsPI/AAAAAAAAA-k/YQ5UzHEm9Ss/s1600/Grizzly%2BBear%2BWildlife.jpg']\n",
    "dest = 'images/grizzly.jpg'\n",
    "download_url(ims[0], dest)\n",
    "im = Image.open(dest)\n",
    "im.to_thumb(128,128)"
   ]
  },
  {
   "cell_type": "code",
   "execution_count": null,
   "metadata": {
    "executionInfo": {
     "elapsed": 7,
     "status": "ok",
     "timestamp": 1761486596944,
     "user": {
      "displayName": "Rehmah Ahmed Batki",
      "userId": "11359513700304139263"
     },
     "user_tz": -330
    },
    "id": "4wUKo20HxVZ2"
   },
   "outputs": [],
   "source": [
    "bear_types = ['grizzly', 'black', 'teddy']\n",
    "path = Path('bears')"
   ]
  },
  {
   "cell_type": "code",
   "execution_count": null,
   "metadata": {
    "colab": {
     "base_uri": "https://localhost:8080/"
    },
    "executionInfo": {
     "elapsed": 22,
     "status": "ok",
     "timestamp": 1761486596975,
     "user": {
      "displayName": "Rehmah Ahmed Batki",
      "userId": "11359513700304139263"
     },
     "user_tz": -330
    },
    "id": "jJdVct4XxWsp",
    "outputId": "0edb8c3c-63e3-4390-ca67-9ed02debe621"
   },
   "outputs": [],
   "source": [
    "for o in bear_types:\n",
    "    print(o, len(get_image_files(path/o)))"
   ]
  },
  {
   "cell_type": "code",
   "execution_count": null,
   "metadata": {
    "colab": {
     "base_uri": "https://localhost:8080/"
    },
    "executionInfo": {
     "elapsed": 52668,
     "status": "ok",
     "timestamp": 1761486649654,
     "user": {
      "displayName": "Rehmah Ahmed Batki",
      "userId": "11359513700304139263"
     },
     "user_tz": -330
    },
    "id": "VqJZIfJAxYPT",
    "outputId": "6ecc99c3-eee8-4dbe-9bd7-e6c436833a97"
   },
   "outputs": [],
   "source": [
    "for o in bear_types:\n",
    "    dest = (path/o)\n",
    "    dest.mkdir(parents=True, exist_ok=True)  # ✅ make sure folder exists\n",
    "    if len(get_image_files(dest)) == 0:\n",
    "        print(f\"Downloading {o} bears...\")\n",
    "        results = search_images(f'{o} bear')\n",
    "        download_images(dest, urls=results)\n"
   ]
  },
  {
   "cell_type": "code",
   "execution_count": null,
   "metadata": {
    "colab": {
     "base_uri": "https://localhost:8080/"
    },
    "executionInfo": {
     "elapsed": 373,
     "status": "ok",
     "timestamp": 1761486649665,
     "user": {
      "displayName": "Rehmah Ahmed Batki",
      "userId": "11359513700304139263"
     },
     "user_tz": -330
    },
    "id": "zj5_H3lDxZzX",
    "outputId": "f5527321-44c4-4a78-bfa0-44ddf626f2fa"
   },
   "outputs": [],
   "source": [
    "for o in bear_types:\n",
    "    print(o, len(get_image_files(path/o)))"
   ]
  },
  {
   "cell_type": "code",
   "execution_count": null,
   "metadata": {
    "colab": {
     "base_uri": "https://localhost:8080/"
    },
    "executionInfo": {
     "elapsed": 11184,
     "status": "ok",
     "timestamp": 1761486660524,
     "user": {
      "displayName": "Rehmah Ahmed Batki",
      "userId": "11359513700304139263"
     },
     "user_tz": -330
    },
    "id": "dbW7oRGBxa5s",
    "outputId": "7b16fe0a-27d9-489d-d5a9-b744d4a1c04f"
   },
   "outputs": [],
   "source": [
    "failed = verify_images(get_image_files(path))\n",
    "failed.map(Path.unlink)"
   ]
  },
  {
   "cell_type": "code",
   "execution_count": null,
   "metadata": {
    "executionInfo": {
     "elapsed": 86,
     "status": "ok",
     "timestamp": 1761486660650,
     "user": {
      "displayName": "Rehmah Ahmed Batki",
      "userId": "11359513700304139263"
     },
     "user_tz": -330
    },
    "id": "bgawiRsHxhC9"
   },
   "outputs": [],
   "source": [
    "bears = DataBlock(\n",
    "    blocks=(ImageBlock, CategoryBlock),\n",
    "    get_items=get_image_files,\n",
    "    splitter=RandomSplitter(valid_pct=0.2, seed=42),\n",
    "    get_y=parent_label,\n",
    "    item_tfms=Resize(128))"
   ]
  },
  {
   "cell_type": "code",
   "execution_count": null,
   "metadata": {
    "executionInfo": {
     "elapsed": 130,
     "status": "ok",
     "timestamp": 1761486660793,
     "user": {
      "displayName": "Rehmah Ahmed Batki",
      "userId": "11359513700304139263"
     },
     "user_tz": -330
    },
    "id": "SFatdRE1xhWT"
   },
   "outputs": [],
   "source": [
    "dls = bears.dataloaders(path)"
   ]
  },
  {
   "cell_type": "code",
   "execution_count": null,
   "metadata": {
    "colab": {
     "base_uri": "https://localhost:8080/",
     "height": 516
    },
    "executionInfo": {
     "elapsed": 6579,
     "status": "ok",
     "timestamp": 1761486667437,
     "user": {
      "displayName": "Rehmah Ahmed Batki",
      "userId": "11359513700304139263"
     },
     "user_tz": -330
    },
    "id": "7NBJYYLpxj1u",
    "outputId": "1fbe8bf0-1907-4962-af6c-8706fe28b42f"
   },
   "outputs": [],
   "source": [
    "dls.show_batch(max_n=6)"
   ]
  },
  {
   "cell_type": "code",
   "execution_count": null,
   "metadata": {
    "colab": {
     "base_uri": "https://localhost:8080/",
     "height": 252
    },
    "executionInfo": {
     "elapsed": 3453,
     "status": "ok",
     "timestamp": 1761486670908,
     "user": {
      "displayName": "Rehmah Ahmed Batki",
      "userId": "11359513700304139263"
     },
     "user_tz": -330
    },
    "id": "LQ3KXQp4xlUP",
    "outputId": "b70a2b01-dc9e-4a09-f19f-a3fe9e701c4f"
   },
   "outputs": [],
   "source": [
    "dls.valid.show_batch(max_n=4, nrows=1)"
   ]
  },
  {
   "cell_type": "code",
   "execution_count": null,
   "metadata": {
    "colab": {
     "base_uri": "https://localhost:8080/",
     "height": 252
    },
    "executionInfo": {
     "elapsed": 5123,
     "status": "ok",
     "timestamp": 1761486676042,
     "user": {
      "displayName": "Rehmah Ahmed Batki",
      "userId": "11359513700304139263"
     },
     "user_tz": -330
    },
    "id": "fY-pG6xexnH_",
    "outputId": "a0b1b40c-3ba6-4faf-e9ac-a226ca6e0117"
   },
   "outputs": [],
   "source": [
    "bears = bears.new(item_tfms=Resize(128, ResizeMethod.Squish))\n",
    "dls = bears.dataloaders(path)\n",
    "dls.valid.show_batch(max_n=4, nrows=1)"
   ]
  },
  {
   "cell_type": "code",
   "execution_count": null,
   "metadata": {
    "colab": {
     "base_uri": "https://localhost:8080/",
     "height": 252
    },
    "executionInfo": {
     "elapsed": 6347,
     "status": "ok",
     "timestamp": 1761486682410,
     "user": {
      "displayName": "Rehmah Ahmed Batki",
      "userId": "11359513700304139263"
     },
     "user_tz": -330
    },
    "id": "VSLbISO5xovM",
    "outputId": "2b1fabf5-413f-42ff-cd96-3df911860782"
   },
   "outputs": [],
   "source": [
    "bears = bears.new(item_tfms=Resize(128, ResizeMethod.Pad, pad_mode='zeros'))\n",
    "dls = bears.dataloaders(path)\n",
    "dls.valid.show_batch(max_n=4, nrows=1)"
   ]
  },
  {
   "cell_type": "code",
   "execution_count": null,
   "metadata": {
    "colab": {
     "base_uri": "https://localhost:8080/",
     "height": 252
    },
    "executionInfo": {
     "elapsed": 2973,
     "status": "ok",
     "timestamp": 1761486685411,
     "user": {
      "displayName": "Rehmah Ahmed Batki",
      "userId": "11359513700304139263"
     },
     "user_tz": -330
    },
    "id": "svDskSeBxqOL",
    "outputId": "33583033-a2a2-4fe8-b8b4-f431636066d4"
   },
   "outputs": [],
   "source": [
    "bears = bears.new(item_tfms=RandomResizedCrop(128, min_scale=0.3))\n",
    "dls = bears.dataloaders(path)\n",
    "dls.train.show_batch(max_n=4, nrows=1, unique=True)"
   ]
  },
  {
   "cell_type": "code",
   "execution_count": null,
   "metadata": {
    "colab": {
     "base_uri": "https://localhost:8080/",
     "height": 495
    },
    "executionInfo": {
     "elapsed": 5728,
     "status": "ok",
     "timestamp": 1761486691288,
     "user": {
      "displayName": "Rehmah Ahmed Batki",
      "userId": "11359513700304139263"
     },
     "user_tz": -330
    },
    "id": "_U35sh4ByCh2",
    "outputId": "9e37b8ad-484d-43ed-da1e-1f4c668ef60e"
   },
   "outputs": [],
   "source": [
    "bears = bears.new(item_tfms=Resize(128), batch_tfms=aug_transforms(mult=2))\n",
    "dls = bears.dataloaders(path)\n",
    "dls.train.show_batch(max_n=8, nrows=2, unique=True)"
   ]
  },
  {
   "cell_type": "code",
   "execution_count": null,
   "metadata": {
    "executionInfo": {
     "elapsed": 6,
     "status": "ok",
     "timestamp": 1761486691310,
     "user": {
      "displayName": "Rehmah Ahmed Batki",
      "userId": "11359513700304139263"
     },
     "user_tz": -330
    },
    "id": "N3iLBVZ7yC4E"
   },
   "outputs": [],
   "source": [
    "bears = bears.new(\n",
    "    item_tfms=RandomResizedCrop(224, min_scale=0.5),\n",
    "    batch_tfms=aug_transforms())\n",
    "dls = bears.dataloaders(path)"
   ]
  },
  {
   "cell_type": "code",
   "execution_count": null,
   "metadata": {
    "colab": {
     "base_uri": "https://localhost:8080/",
     "height": 293
    },
    "executionInfo": {
     "elapsed": 394046,
     "status": "ok",
     "timestamp": 1761487085383,
     "user": {
      "displayName": "Rehmah Ahmed Batki",
      "userId": "11359513700304139263"
     },
     "user_tz": -330
    },
    "id": "Igqz1y4pyFo1",
    "outputId": "8c466b8a-c867-4908-f306-1ca68d1f01a8"
   },
   "outputs": [],
   "source": [
    "learn = vision_learner(dls, resnet18, metrics=error_rate)\n",
    "learn.fine_tune(4)"
   ]
  },
  {
   "cell_type": "code",
   "execution_count": null,
   "metadata": {
    "colab": {
     "base_uri": "https://localhost:8080/",
     "height": 506
    },
    "executionInfo": {
     "elapsed": 20711,
     "status": "ok",
     "timestamp": 1761487106101,
     "user": {
      "displayName": "Rehmah Ahmed Batki",
      "userId": "11359513700304139263"
     },
     "user_tz": -330
    },
    "id": "WJOx8DPyyHA6",
    "outputId": "64da0e17-3d94-44c0-a2d1-81ef69fd58c1"
   },
   "outputs": [],
   "source": [
    "interp = ClassificationInterpretation.from_learner(learn)\n",
    "interp.plot_confusion_matrix()"
   ]
  },
  {
   "cell_type": "markdown",
   "metadata": {
    "id": "1LJFS_HDyvKh"
   },
   "source": [
    "It shows 5 images, each annotated with:\n",
    "\n",
    "* Predicted label (what the model thought it was)\n",
    "\n",
    "* Actual (true) label (the correct answer)\n",
    "\n",
    "* Loss value (how wrong the prediction was)\n",
    "\n",
    "* Probability/confidence of the model’s prediction"
   ]
  },
  {
   "cell_type": "code",
   "execution_count": null,
   "metadata": {
    "colab": {
     "base_uri": "https://localhost:8080/",
     "height": 220
    },
    "executionInfo": {
     "elapsed": 2330,
     "status": "ok",
     "timestamp": 1761487108450,
     "user": {
      "displayName": "Rehmah Ahmed Batki",
      "userId": "11359513700304139263"
     },
     "user_tz": -330
    },
    "id": "kBmEjOznyI4N",
    "outputId": "1716c064-ee2c-4a9d-fd6f-3dec7a103d6c"
   },
   "outputs": [],
   "source": [
    "interp.plot_top_losses(5, nrows=1)"
   ]
  },
  {
   "cell_type": "code",
   "execution_count": null,
   "metadata": {
    "colab": {
     "base_uri": "https://localhost:8080/",
     "height": 253,
     "referenced_widgets": [
      "73141ec88fb744e38ca8b1994a616505",
      "d9d00869c9524ac6a0426d2df4f403e9",
      "6b5e929c3d4b422f8b0c60d37096cfd5",
      "ceb9c186f2c3427e833946527ce94ddd",
      "c4c3267293ca4f94819464a251f170ab",
      "76d892ac4fc64ad8ae6ff11372c531b5",
      "fb36e97d2ed4478fb9a63ea0152aad44",
      "eeb904df4ab549e69bf8aff5b68e266f",
      "00ecbe6224294f2e8dff4e225b385b82",
      "3b31cc48863d4451a86fd139f9e61cb0",
      "dab46c94c57e473eaa530816f954e205",
      "71bf7ba3487c44e180e63aabc8e83073",
      "e49541bc1be540cb80d7c9dd89471d01",
      "189275020a9a400a833fe0322d296546",
      "f1208f87f249441f9044b0c37365bb4d",
      "308b85acc5704d2bb87160ff0cd0853e",
      "4948831819264e6d8cc94a72b3722f88",
      "58af386f91f84420aff9f69e5b6e09ec",
      "4ed790c0a7244cdeacfb009e8a1ae2dc",
      "8fa22d1c03d04cf8b36b162b4b4707be",
      "b38332300cf34cf0877bec5eb1435594",
      "10927f85427c401a90ff5667e2e51efc",
      "679c3323b56543299cdb4d5019d36868",
      "8e3e00997d954aabbb384ddd4b8996bd",
      "9bc9e1d8d2e142868c9313e7b6e2bd66",
      "1f987e7744d240ddbd71316c010838d8",
      "33aab9ad36424c57af94333fd458082f",
      "2ddfe5857fa345b0a4830e17d511c9a4",
      "53368c63578a4240ae6851fb59d9b2fc",
      "f5f3db81ed94480bb4e80db17fdd3e13",
      "da9630899b7e4361945abf0eebf4eeee",
      "243310bc129646b8a4bdff46be7cb485",
      "24cddb3d217b49f480a187a519e90c7f",
      "f462735f053b4f25ae6664893e182f94",
      "c242ff329c884c53b2b13843e55f058e",
      "e811c782c4a448f19de31eb443f977be",
      "b091700af7d04842a360541412790947",
      "8dfef89c96454de19d7a10c48e655f49",
      "ee353d04775f45a4bbe56c4ecbad76b7",
      "4c4e2168b26b4d17898f766990b8b987",
      "18e425ce6ac94a3e9ed86c61e44aaeb4",
      "aee06b4454d24ec3989fd56a5be5f58d",
      "367833676cc9490a94b22d5b078c4b1f",
      "8ba1e58b57f54f199ffb4b1eca3e2f9e",
      "cc8ddfa7d1b3421791589d9cdb9d11a9",
      "a0a86e0546b748e1be2635d26bb8ac18",
      "629d4ca44c0344b39bb778018fc9e27f",
      "fd87454244c04a08819d08df11654b64",
      "1e7bc47193e84d6cb8843a4fd1a69825",
      "3b7a4dacc15b469a823d1b26407c2947",
      "a26a5f52c68d453786547c2db239d2cd",
      "6ea65ec94a6a4a4bb7efd92ec11e791b",
      "35142c90535146af98b962d6c15be908",
      "e1cc7ee5963e48b2ae3cb81b2a85ca08",
      "71314a00b09a439b8a6e1bf7fc3313ee",
      "05cd040edeef46bda7e3ab48e34fb79a",
      "d0c58b2c93694b82bae1b77b2004491a",
      "cb8025318a254e76b834c01e569010ca",
      "aaee74f286e34ec0bea0724b265241c9",
      "309d165c9046403e9c7468c5266398cc",
      "9785f48ae41b457c9c7100eb5d5f714d",
      "99fc149c0af7489d84f024deb7eb1e06",
      "14c3e9133c3146feb047441b67f03c85",
      "5b7f0a7561734ffa88b9c325fb5004fd",
      "e8b8ab3c456a42eaae8b74034103bcf6",
      "da28e385233f40e693f7764c05c6889d",
      "24d1fc853b254ff39a780bda89dc8070",
      "edffeb41d36e47bcbb1eabd05e7f262b",
      "517c78acc8f54a45859667e0d91ffe1b",
      "f7e91c390a7745a0928ea6377dfb37da",
      "bd11a2bdfd364f9f869823e06821b412",
      "591dfe4c7a8c4b84b9ae809e2e3228b3",
      "d1b77ccfbffc4eadb7d1126c6f6c065e",
      "abe9aacd4d914318be64dc0b3859c0ae",
      "866f75c95b89493a91f7769efae75fc3",
      "82cbfd7d4fe742069eb22f123282f6c7",
      "8f71b37a7e2a4bbe836e8fbbdabd6f44",
      "6397ca3c592e437787748444ea0f3230",
      "d7fa69017eb2444eb7663aed3128c7e2",
      "9c21e7f613d641d7acae00031c351aaf",
      "57c0657403504350a2f3ab0d9a4b814b",
      "926d4c3fa9614007814bb04d3dbacf35",
      "f1d5ce1ab51040818ec5e397dd19d6f9",
      "41ebbda291b6413d9327d188ec0ee447",
      "b40ec485e2374769bec58a1329ecd72f",
      "a58fab404af5454ca59b7dd0d8178c89",
      "6b93aae25af944f9b15ff85de3c0d282",
      "3e4bcf3a0914482abd871583387c99e2",
      "e912e26ebf404108a00459f95eb953c6",
      "c065a46178014e39855b67db65ddf530",
      "01e0f0792a924a43ab4b911118dad42d",
      "999a0f9bf1184145832decea2211fac1",
      "c8087dfe54414069a0fbaff6f4d9dc32",
      "ea7cd030ac5c4a70961bf78295bfd3ef",
      "34cbf04647b744b5a3a37db21d739c67",
      "641657f741ba4d71b2905b46ec3553f9",
      "2b73552aa81c4f74b23a5f7960c3bd8e",
      "4378e1825f5c436a8281c3d1fbd60658",
      "2a67cfc9200c431e85026adf6d1185c4",
      "8035e4664fc14a7d9e5618d094b19684",
      "8bff319633814c5b97e08750dbe0da84",
      "10cab40f9d404031b06d7cecb72f98ae",
      "3a6a3ac443f14479843835cbf508026c",
      "6d4e16c38c02482dbdd27215f3ff335a",
      "52180409676b40d5b95db90f23c73057",
      "f0ae239091a24db3b30caf0c3356eb9b",
      "2ddf696f12874a00aa27e0e5ea6f679e",
      "06833e60a2b64abca65c5a4be60ea402",
      "a5624fcdb67c411b90d55e87965f3f3a",
      "38a62b86dc2d42209edc02ec5903584a",
      "4898987e54184b77b3aa767dc8b114bc",
      "249309b725954ff1b83418e4ccc6cb3c",
      "7dac04a3fd284c5593e7de5055294299",
      "d03d3abd9a6b44a4808a2930e82d6721",
      "732f6392667d4e7591aa019086b89ad7",
      "0995fdcddb9940f89002e208544ed263",
      "c36fc10e223741d281516b64fe727b51",
      "d2ece1b89e484790a9d47f911ad25ac5",
      "11618667edf948c9ae286918af58472f",
      "adc74bafd35f4223b11f6eeb9bd189be",
      "c3c40bde5d174aaab34b7a791cc0964e",
      "32be5dedc64e44e9a348576a940d78de",
      "2d7b5939f4084f17b36808ad2c743a24",
      "106ee43bff89439fb34c1a2c8023e5ed",
      "66ee74791f6b45d1a8fff16cd09dd145",
      "33a60aa8d3d14dac90c58deda4fc17a0",
      "3ec693683f5645ba88ba72dbbb254e66",
      "096f05a2b3dd487c8b9b5c8e0100b3bc",
      "26694475a482425aa37df1450a3006d6",
      "0cf9327b938149649fa28a9cb54c0d54",
      "0df8226564d04f72ac60289febc8bc36",
      "7ff4c61dfaa84bd39094727d316a7df0",
      "ee544411ff8640639c9e496dd5d6d957",
      "0c8ac3cf9a3e43c19f5937fb2dbd4dae",
      "1d3f965e6876484c8186695857613992",
      "60171c12b64d49b0851e248affbca180",
      "7a222eb4642c43c19144fa7f9cd2e91b",
      "b1a154a258eb4da1983820c32f7840c9",
      "d38a5613672242cabf2cb5ea23db9de2",
      "701bbcfabc3140ca98282b3ee9483995",
      "b53c738f0d8f41148bd7401b2ca6345f",
      "5da87973ee7a4633bfbba1aaae28772b",
      "0f4579be324b48adbccbfe08c3ba4112",
      "7eef5a49962f4888a07296052cabeeee",
      "259f6a3423284710aa2429ca2823b6af",
      "5b1f422466e14a9e8fd5dbf90bfe4852",
      "fb571f1077a24fd4b3c602b5aca02430",
      "4acf3af1100b432e96b43428c6e9c29d",
      "4a2bb4c292e74592bc9b800d057eab52",
      "7f344f9e150c4d6b93e6c161eace8b15",
      "39c460eac97e49089f25115b6d7d4cbf",
      "2d594be92a1d45b3b5ba303780cb986b",
      "1540932749f846dcb5cb9784f7cf10ec",
      "dff448646766417b9e53b1b94d5f9106",
      "f52a0d3f50c742b4bdf7b0ca512e6941",
      "8bb5e43a55bb4c31897e54c6d5f65229",
      "8d47f5e098ee4cebaba12064fabd7fb6",
      "7c3d96081a0f408899e8977f3821ff06",
      "4179e7f7c7304d28835224d1621565b5",
      "a84e28f2a5d049e2986e83e02dcc56f4",
      "5522eb738b35460aaf539fd93cfdbc62",
      "24d8cd1413a04f69be89dee970454d68",
      "bfedd8806fe048ce87dead39aee86082",
      "c65ed35eb37d4581a7a354ca68eb2c3a",
      "083603bebe1a4ecebbf6fc854b11c64f",
      "659125b2cdd648aaa300d4faee17c69c",
      "902c4ebe80b746b685a09c17a2c9c0f5",
      "3472b5b83483495ba38d67493db2652e",
      "9ff06994c9d94bb480ec286377d24cbc",
      "46ad674bb18b49bb96fed0183fee8f5c",
      "6c941b356916469fb25f8bf9d4f23dc3",
      "28779c10bffc478bab3ed0315ffca61d",
      "4705bcfc170b453f8efe682d74694a6a",
      "6879a0ec8c324f6ead352c337865838d",
      "bc1bf8ae4c7e46989e3cc01750a941c6",
      "260edb6c58ac40458757c97bdb3356ef",
      "61b084b672aa499aa41644d973787680",
      "11ebb0139281446cb03abccb8ced77e8",
      "cca634a717bb49a09ef6936acc131e30",
      "987d14f1103f4f0794efcfb601233aa2",
      "e551925f2e2f4d30a5c5cd4382e7efe5",
      "c707816fafe44f7ea805f478033ce0fa",
      "d30b85d9152c4a4591946683558c3f94",
      "3b658b9037a1401d972cc86a89565ea2",
      "8c78007526404e9fa29c598cf26c095d",
      "d96a008d66764a9caaac7cd5af8753e5",
      "b1ef3341b50947388c7df86fb167a1b8",
      "2a8cda946521447783f2ae28cc483b0f",
      "12959c4fc97d49d3b0e56ea72b8a7da4",
      "f8aca07460b74614bdfba3fdc4740d80",
      "0799ed3a074b45ffa8a61d545bd285c3",
      "317b80ec0926492883153f249ca4017c",
      "df0ecce16df64ea6b737d5f60bfa8a53",
      "d37942f80e3d4dc8ae11a6a9fe4d889f",
      "74725bff629d4e8bbc102746ba25e21f",
      "a41f1aee970841e7a9143ca2c6d5b82d",
      "76367d122c4b40c48a58132362e4dc05",
      "e7a06c663c59476db17bedda5decde0b",
      "ca74b01132b14308827620bb73fcc581",
      "b599e5f2de864c98956de15b2e48fa47",
      "227aabc01cd447be987360901119bf0d",
      "11ca613773f5456eb0f9769d44161249",
      "ef529ba901bc405cae8baf12cb60f4e9",
      "a700d6eed4464270ae45402aca17b07a",
      "9a32c3d72a0d4d4a9f855b1d77ca53c1",
      "1a698f5d07a44147a8153666d89d6e21",
      "1cd8a7e8ae004bc98ac0076175d6036f",
      "31708c3565364eedb61458bf4ba53bec",
      "d6b237f6f8ae4c8787f76893c716c60d",
      "f9f994f098644865ac3e7dc93ac454fc",
      "96661cce8fd942a0b71d60a5411ac9eb",
      "8b8ad5a50fa041d5865cd745caa6dcd9",
      "a98a22f45b8a426895395f5effb1b8c0",
      "7e8813e410644e1ba1b8119f81738054",
      "b2dae1310dbb487ab1092449ff0ef495",
      "7b71b66ed78a49fd8079b50bbd258b0e",
      "dc3997f772094276b148e650133eacc5",
      "4da5958e1ba84cd9bdfab39f531a0771",
      "1c27f55f566e40b68bded1a52ac5ffd4",
      "12e5c789e884401491f6e15e1b4ff765"
     ]
    },
    "executionInfo": {
     "elapsed": 48319,
     "status": "ok",
     "timestamp": 1761487156785,
     "user": {
      "displayName": "Rehmah Ahmed Batki",
      "userId": "11359513700304139263"
     },
     "user_tz": -330
    },
    "id": "gL0Sy5UpyKaf",
    "outputId": "80f6f023-516d-4a6a-998b-8d22ad059551"
   },
   "outputs": [],
   "source": [
    "from fastai.vision.widgets import *\n",
    "cleaner = ImageClassifierCleaner(learn)\n",
    "cleaner"
   ]
  },
  {
   "cell_type": "code",
   "execution_count": null,
   "metadata": {
    "executionInfo": {
     "elapsed": 1173,
     "status": "ok",
     "timestamp": 1761487192159,
     "user": {
      "displayName": "Rehmah Ahmed Batki",
      "userId": "11359513700304139263"
     },
     "user_tz": -330
    },
    "id": "EYLzHXtPySlG"
   },
   "outputs": [],
   "source": [
    "learn.export('/content/drive/MyDrive/Fastai Pytorch/Lessons/Lesson 2/export.pkl')"
   ]
  },
  {
   "cell_type": "code",
   "execution_count": null,
   "metadata": {
    "colab": {
     "base_uri": "https://localhost:8080/"
    },
    "executionInfo": {
     "elapsed": 237,
     "status": "ok",
     "timestamp": 1761487198673,
     "user": {
      "displayName": "Rehmah Ahmed Batki",
      "userId": "11359513700304139263"
     },
     "user_tz": -330
    },
    "id": "NK271_78yUkH",
    "outputId": "e6978a4b-ff7c-4b5b-c240-ec801116c6ce"
   },
   "outputs": [],
   "source": [
    "learn_inf = load_learner('/content/drive/MyDrive/Fastai Pytorch/Lessons/Lesson 2/export.pkl')"
   ]
  },
  {
   "cell_type": "code",
   "execution_count": null,
   "metadata": {
    "colab": {
     "base_uri": "https://localhost:8080/",
     "height": 34
    },
    "executionInfo": {
     "elapsed": 248,
     "status": "ok",
     "timestamp": 1761487199769,
     "user": {
      "displayName": "Rehmah Ahmed Batki",
      "userId": "11359513700304139263"
     },
     "user_tz": -330
    },
    "id": "eHqrg4gRyZBp",
    "outputId": "7b282bbb-1626-4aab-a9c9-fd747cea3ecd"
   },
   "outputs": [],
   "source": [
    "learn_inf.predict('images/grizzly.jpg')"
   ]
  },
  {
   "cell_type": "markdown",
   "metadata": {
    "id": "KASWe_27y6zQ"
   },
   "source": [
    "* learn_inf → your exported learner (usually loaded with load_learner()).\n",
    "\n",
    "* .dls → the DataLoaders object associated with that learner.\n",
    "\n",
    "* .vocab → the list of class labels the model was trained to recognize."
   ]
  },
  {
   "cell_type": "code",
   "execution_count": null,
   "metadata": {
    "colab": {
     "base_uri": "https://localhost:8080/"
    },
    "executionInfo": {
     "elapsed": 94,
     "status": "ok",
     "timestamp": 1761487202604,
     "user": {
      "displayName": "Rehmah Ahmed Batki",
      "userId": "11359513700304139263"
     },
     "user_tz": -330
    },
    "id": "8x1VWeUDyaxU",
    "outputId": "df2452e2-804f-4769-a70d-5c4bf0019549"
   },
   "outputs": [],
   "source": [
    "learn_inf.dls.vocab"
   ]
  },
  {
   "cell_type": "code",
   "execution_count": null,
   "metadata": {
    "id": "arheG0yAycuW"
   },
   "outputs": [],
   "source": []
  }
 ],
 "metadata": {
  "colab": {
   "authorship_tag": "ABX9TyP8Nr6mC+fPgQH6GU5HMPgl",
   "mount_file_id": "1qVT2rk7K1zlrnGJs8bPhxHXansSV41hh",
   "provenance": []
  },
  "kernelspec": {
   "display_name": "Python 3",
   "name": "python3"
  },
  "language_info": {
   "name": "python"
  }
 },
 "nbformat": 4,
 "nbformat_minor": 0
}
