{
 "cells": [
  {
   "cell_type": "code",
   "execution_count": null,
   "metadata": {
    "executionInfo": {
     "elapsed": 21010,
     "status": "ok",
     "timestamp": 1761487834809,
     "user": {
      "displayName": "Rehmah Ahmed Batki",
      "userId": "11359513700304139263"
     },
     "user_tz": -330
    },
    "id": "KsM63OZYzGfy"
   },
   "outputs": [],
   "source": [
    "from fastai.vision.widgets import *\n",
    "from fastcore.all import *\n",
    "from fastdownload import download_url\n",
    "from fastai.vision.all import *"
   ]
  },
  {
   "cell_type": "code",
   "execution_count": null,
   "metadata": {
    "colab": {
     "base_uri": "https://localhost:8080/",
     "height": 49,
     "referenced_widgets": [
      "c80449fcf69a422e9fbccef65dadb5b9",
      "466748a6d8b742a0b2d7959d90a2eee3",
      "a47f09a4b31148e8b2358a8aaef0737c"
     ]
    },
    "executionInfo": {
     "elapsed": 22,
     "status": "ok",
     "timestamp": 1761487834860,
     "user": {
      "displayName": "Rehmah Ahmed Batki",
      "userId": "11359513700304139263"
     },
     "user_tz": -330
    },
    "id": "gkvQGrgCzIvT",
    "outputId": "16c8baa4-c17e-48c9-9adf-91cd1360851c"
   },
   "outputs": [],
   "source": [
    "btn_upload = widgets.FileUpload()\n",
    "btn_upload"
   ]
  },
  {
   "cell_type": "code",
   "execution_count": null,
   "metadata": {
    "executionInfo": {
     "elapsed": 67,
     "status": "ok",
     "timestamp": 1761487850687,
     "user": {
      "displayName": "Rehmah Ahmed Batki",
      "userId": "11359513700304139263"
     },
     "user_tz": -330
    },
    "id": "XWVjiJxizKAy"
   },
   "outputs": [],
   "source": [
    "img = PILImage.create(btn_upload.data[-1])"
   ]
  },
  {
   "cell_type": "code",
   "execution_count": null,
   "metadata": {
    "colab": {
     "base_uri": "https://localhost:8080/",
     "height": 145,
     "referenced_widgets": [
      "20135f0d75d845c39a745e725974bbd4",
      "6c8f9a18a8724668a55832a37c2693ef"
     ]
    },
    "executionInfo": {
     "elapsed": 261,
     "status": "ok",
     "timestamp": 1761487852067,
     "user": {
      "displayName": "Rehmah Ahmed Batki",
      "userId": "11359513700304139263"
     },
     "user_tz": -330
    },
    "id": "OO2V2EBvzWLg",
    "outputId": "4f2e4e4c-70d4-4604-a5d5-28de9861fbce"
   },
   "outputs": [],
   "source": [
    "out_pl = widgets.Output()\n",
    "out_pl.clear_output()\n",
    "with out_pl: display(img.to_thumb(128,128))\n",
    "out_pl"
   ]
  },
  {
   "cell_type": "code",
   "execution_count": null,
   "metadata": {
    "colab": {
     "base_uri": "https://localhost:8080/"
    },
    "executionInfo": {
     "elapsed": 24,
     "status": "ok",
     "timestamp": 1761487852155,
     "user": {
      "displayName": "Rehmah Ahmed Batki",
      "userId": "11359513700304139263"
     },
     "user_tz": -330
    },
    "id": "t1qiSzGPzXma",
    "outputId": "db5f36de-6bc0-4cb8-da1c-ba1c1270e6e0"
   },
   "outputs": [],
   "source": [
    "learn_inf = load_learner('export.pkl')"
   ]
  },
  {
   "cell_type": "code",
   "execution_count": null,
   "metadata": {
    "colab": {
     "base_uri": "https://localhost:8080/",
     "height": 17
    },
    "executionInfo": {
     "elapsed": 42,
     "status": "ok",
     "timestamp": 1761487852195,
     "user": {
      "displayName": "Rehmah Ahmed Batki",
      "userId": "11359513700304139263"
     },
     "user_tz": -330
    },
    "id": "kP4ggcwuzfL3",
    "outputId": "073f8ee9-9ef8-4bb2-9337-17a4ab21d9da"
   },
   "outputs": [],
   "source": [
    "pred,pred_idx,probs = learn_inf.predict(img)"
   ]
  },
  {
   "cell_type": "code",
   "execution_count": null,
   "metadata": {
    "colab": {
     "base_uri": "https://localhost:8080/",
     "height": 49,
     "referenced_widgets": [
      "be79301bf6d44d9184aaf065ded5e06c",
      "cb2ab3e0a276482f9a31fdcb387422b9",
      "0345716936c0439fa06256f02f605f43"
     ]
    },
    "executionInfo": {
     "elapsed": 12,
     "status": "ok",
     "timestamp": 1761487852215,
     "user": {
      "displayName": "Rehmah Ahmed Batki",
      "userId": "11359513700304139263"
     },
     "user_tz": -330
    },
    "id": "fx5AbzzmzfIN",
    "outputId": "4747f663-edcd-4f06-a338-3cc387f3b371"
   },
   "outputs": [],
   "source": [
    "lbl_pred = widgets.Label()\n",
    "lbl_pred.value = f'Prediction: {pred}; Probability: {probs[pred_idx]:.04f}'\n",
    "lbl_pred"
   ]
  },
  {
   "cell_type": "code",
   "execution_count": null,
   "metadata": {
    "colab": {
     "base_uri": "https://localhost:8080/",
     "height": 49,
     "referenced_widgets": [
      "3376fa75d75c444db76e65d930796fdf",
      "12e92e14c49145099bf65244ec2501f7",
      "fb45fd9dd40a4e87b457033228b6fe21"
     ]
    },
    "executionInfo": {
     "elapsed": 74,
     "status": "ok",
     "timestamp": 1761487852294,
     "user": {
      "displayName": "Rehmah Ahmed Batki",
      "userId": "11359513700304139263"
     },
     "user_tz": -330
    },
    "id": "dvSWqu-GzfFh",
    "outputId": "7bed0f7c-3b08-415e-8483-4f2d41d8ef51"
   },
   "outputs": [],
   "source": [
    "btn_run = widgets.Button(description='Classify')\n",
    "btn_run"
   ]
  },
  {
   "cell_type": "code",
   "execution_count": null,
   "metadata": {
    "executionInfo": {
     "elapsed": 9,
     "status": "ok",
     "timestamp": 1761487852308,
     "user": {
      "displayName": "Rehmah Ahmed Batki",
      "userId": "11359513700304139263"
     },
     "user_tz": -330
    },
    "id": "67L_gjDbzkcv"
   },
   "outputs": [],
   "source": [
    "def on_click_classify(change):\n",
    "    img = PILImage.create(btn_upload.data[-1])\n",
    "    out_pl.clear_output()\n",
    "    with out_pl: display(img.to_thumb(128,128))\n",
    "    pred,pred_idx,probs = learn_inf.predict(img)\n",
    "    lbl_pred.value = f'Prediction: {pred}; Probability: {probs[pred_idx]:.04f}'\n",
    "\n",
    "btn_run.on_click(on_click_classify)"
   ]
  },
  {
   "cell_type": "code",
   "execution_count": null,
   "metadata": {
    "colab": {
     "base_uri": "https://localhost:8080/",
     "height": 273,
     "referenced_widgets": [
      "2d1cdb9daf0249c2a3d52107f09ba5ea",
      "edb9b30c5e1249b2ba12126f8a5703c7",
      "c80449fcf69a422e9fbccef65dadb5b9",
      "3376fa75d75c444db76e65d930796fdf",
      "20135f0d75d845c39a745e725974bbd4",
      "be79301bf6d44d9184aaf065ded5e06c",
      "2456222961f64bd0be9e62720a19bb4c",
      "757e0fc2b7e646feb7fc0d5ad6f82e2b",
      "667d2f071d174d8b93b43a69fbdf35e2",
      "466748a6d8b742a0b2d7959d90a2eee3",
      "a47f09a4b31148e8b2358a8aaef0737c",
      "12e92e14c49145099bf65244ec2501f7",
      "fb45fd9dd40a4e87b457033228b6fe21",
      "cb2ab3e0a276482f9a31fdcb387422b9",
      "0345716936c0439fa06256f02f605f43",
      "6c8f9a18a8724668a55832a37c2693ef"
     ]
    },
    "executionInfo": {
     "elapsed": 27,
     "status": "ok",
     "timestamp": 1761487852346,
     "user": {
      "displayName": "Rehmah Ahmed Batki",
      "userId": "11359513700304139263"
     },
     "user_tz": -330
    },
    "id": "fd3sZfl7zkZy",
    "outputId": "4c678409-53e4-46c9-bf0e-a872f7ec03b5"
   },
   "outputs": [],
   "source": [
    "VBox([\n",
    "    widgets.Label('Select your bear!'),\n",
    "    btn_upload,\n",
    "    btn_run,\n",
    "    out_pl,\n",
    "    lbl_pred\n",
    "])\n"
   ]
  },
  {
   "cell_type": "code",
   "execution_count": null,
   "metadata": {
    "executionInfo": {
     "elapsed": 19,
     "status": "ok",
     "timestamp": 1761487852353,
     "user": {
      "displayName": "Rehmah Ahmed Batki",
      "userId": "11359513700304139263"
     },
     "user_tz": -330
    },
    "id": "QB59o8kY0g3q"
   },
   "outputs": [],
   "source": []
  }
 ],
 "metadata": {
  "colab": {
   "authorship_tag": "ABX9TyO1/wuOdRHjNRWpQAtVdQ9E",
   "mount_file_id": "1yBhbMssV69httidQtXeQNHFjoVzQ3ABT",
   "provenance": []
  },
  "kernelspec": {
   "display_name": "Python 3 (ipykernel)",
   "language": "python",
   "name": "python3"
  },
  "language_info": {
   "codemirror_mode": {
    "name": "ipython",
    "version": 3
   },
   "file_extension": ".py",
   "mimetype": "text/x-python",
   "name": "python",
   "nbconvert_exporter": "python",
   "pygments_lexer": "ipython3",
   "version": "3.12.6"
  }
 },
 "nbformat": 4,
 "nbformat_minor": 4
}
