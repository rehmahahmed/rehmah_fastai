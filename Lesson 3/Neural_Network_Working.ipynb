{
  "nbformat": 4,
  "nbformat_minor": 0,
  "metadata": {
    "colab": {
      "provenance": []
    },
    "kernelspec": {
      "name": "python3",
      "display_name": "Python 3"
    },
    "language_info": {
      "name": "python"
    },
    "widgets": {
      "application/vnd.jupyter.widget-state+json": {
        "1f9839c08b1f4d489e456f64928c1e77": {
          "model_module": "@jupyter-widgets/controls",
          "model_name": "VBoxModel",
          "model_module_version": "1.5.0",
          "state": {
            "_dom_classes": [
              "widget-interact"
            ],
            "_model_module": "@jupyter-widgets/controls",
            "_model_module_version": "1.5.0",
            "_model_name": "VBoxModel",
            "_view_count": null,
            "_view_module": "@jupyter-widgets/controls",
            "_view_module_version": "1.5.0",
            "_view_name": "VBoxView",
            "box_style": "",
            "children": [
              "IPY_MODEL_97c698d11a4f4721bb61b91635f5561a",
              "IPY_MODEL_915a3e2308844f68b4ececa98ba7759d",
              "IPY_MODEL_47daa9128a704c45ac150223546f79fc",
              "IPY_MODEL_4b600f2ad5104baca5da1a0e834b0033"
            ],
            "layout": "IPY_MODEL_81767bf315fd4f908097843239a3ce58"
          }
        },
        "97c698d11a4f4721bb61b91635f5561a": {
          "model_module": "@jupyter-widgets/controls",
          "model_name": "FloatSliderModel",
          "model_module_version": "1.5.0",
          "state": {
            "_dom_classes": [],
            "_model_module": "@jupyter-widgets/controls",
            "_model_module_version": "1.5.0",
            "_model_name": "FloatSliderModel",
            "_view_count": null,
            "_view_module": "@jupyter-widgets/controls",
            "_view_module_version": "1.5.0",
            "_view_name": "FloatSliderView",
            "continuous_update": true,
            "description": "a",
            "description_tooltip": null,
            "disabled": false,
            "layout": "IPY_MODEL_584fd9d850f2475da1c20b4eae532c83",
            "max": 3.3000000000000003,
            "min": -1.1,
            "orientation": "horizontal",
            "readout": true,
            "readout_format": ".2f",
            "step": 0.1,
            "style": "IPY_MODEL_b4504ffd6ea44c2dbe2a868e717b26f8",
            "value": 1.9
          }
        },
        "915a3e2308844f68b4ececa98ba7759d": {
          "model_module": "@jupyter-widgets/controls",
          "model_name": "FloatSliderModel",
          "model_module_version": "1.5.0",
          "state": {
            "_dom_classes": [],
            "_model_module": "@jupyter-widgets/controls",
            "_model_module_version": "1.5.0",
            "_model_name": "FloatSliderModel",
            "_view_count": null,
            "_view_module": "@jupyter-widgets/controls",
            "_view_module_version": "1.5.0",
            "_view_name": "FloatSliderView",
            "continuous_update": true,
            "description": "b",
            "description_tooltip": null,
            "disabled": false,
            "layout": "IPY_MODEL_df656d8b261e445faf01fcd947149537",
            "max": 3.3000000000000003,
            "min": -1.1,
            "orientation": "horizontal",
            "readout": true,
            "readout_format": ".2f",
            "step": 0.1,
            "style": "IPY_MODEL_3d2338f6936f4af1b2b769787b39c84f",
            "value": 1.1
          }
        },
        "47daa9128a704c45ac150223546f79fc": {
          "model_module": "@jupyter-widgets/controls",
          "model_name": "FloatSliderModel",
          "model_module_version": "1.5.0",
          "state": {
            "_dom_classes": [],
            "_model_module": "@jupyter-widgets/controls",
            "_model_module_version": "1.5.0",
            "_model_name": "FloatSliderModel",
            "_view_count": null,
            "_view_module": "@jupyter-widgets/controls",
            "_view_module_version": "1.5.0",
            "_view_name": "FloatSliderView",
            "continuous_update": true,
            "description": "c",
            "description_tooltip": null,
            "disabled": false,
            "layout": "IPY_MODEL_c8125fdd839a43f781f7a192a1331783",
            "max": 3.3000000000000003,
            "min": -1.1,
            "orientation": "horizontal",
            "readout": true,
            "readout_format": ".2f",
            "step": 0.1,
            "style": "IPY_MODEL_775964d9275c4de5ab5af2c5603e7b61",
            "value": 0.3
          }
        },
        "4b600f2ad5104baca5da1a0e834b0033": {
          "model_module": "@jupyter-widgets/output",
          "model_name": "OutputModel",
          "model_module_version": "1.0.0",
          "state": {
            "_dom_classes": [],
            "_model_module": "@jupyter-widgets/output",
            "_model_module_version": "1.0.0",
            "_model_name": "OutputModel",
            "_view_count": null,
            "_view_module": "@jupyter-widgets/output",
            "_view_module_version": "1.0.0",
            "_view_name": "OutputView",
            "layout": "IPY_MODEL_5cfb2a1f196a4ed484540941be7577c4",
            "msg_id": "",
            "outputs": [
              {
                "output_type": "display_data",
                "data": {
                  "text/plain": "<Figure size 576x432 with 1 Axes>",
                  "image/png": "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\n"
                },
                "metadata": {}
              }
            ]
          }
        },
        "81767bf315fd4f908097843239a3ce58": {
          "model_module": "@jupyter-widgets/base",
          "model_name": "LayoutModel",
          "model_module_version": "1.2.0",
          "state": {
            "_model_module": "@jupyter-widgets/base",
            "_model_module_version": "1.2.0",
            "_model_name": "LayoutModel",
            "_view_count": null,
            "_view_module": "@jupyter-widgets/base",
            "_view_module_version": "1.2.0",
            "_view_name": "LayoutView",
            "align_content": null,
            "align_items": null,
            "align_self": null,
            "border": null,
            "bottom": null,
            "display": null,
            "flex": null,
            "flex_flow": null,
            "grid_area": null,
            "grid_auto_columns": null,
            "grid_auto_flow": null,
            "grid_auto_rows": null,
            "grid_column": null,
            "grid_gap": null,
            "grid_row": null,
            "grid_template_areas": null,
            "grid_template_columns": null,
            "grid_template_rows": null,
            "height": null,
            "justify_content": null,
            "justify_items": null,
            "left": null,
            "margin": null,
            "max_height": null,
            "max_width": null,
            "min_height": null,
            "min_width": null,
            "object_fit": null,
            "object_position": null,
            "order": null,
            "overflow": null,
            "overflow_x": null,
            "overflow_y": null,
            "padding": null,
            "right": null,
            "top": null,
            "visibility": null,
            "width": null
          }
        },
        "584fd9d850f2475da1c20b4eae532c83": {
          "model_module": "@jupyter-widgets/base",
          "model_name": "LayoutModel",
          "model_module_version": "1.2.0",
          "state": {
            "_model_module": "@jupyter-widgets/base",
            "_model_module_version": "1.2.0",
            "_model_name": "LayoutModel",
            "_view_count": null,
            "_view_module": "@jupyter-widgets/base",
            "_view_module_version": "1.2.0",
            "_view_name": "LayoutView",
            "align_content": null,
            "align_items": null,
            "align_self": null,
            "border": null,
            "bottom": null,
            "display": null,
            "flex": null,
            "flex_flow": null,
            "grid_area": null,
            "grid_auto_columns": null,
            "grid_auto_flow": null,
            "grid_auto_rows": null,
            "grid_column": null,
            "grid_gap": null,
            "grid_row": null,
            "grid_template_areas": null,
            "grid_template_columns": null,
            "grid_template_rows": null,
            "height": null,
            "justify_content": null,
            "justify_items": null,
            "left": null,
            "margin": null,
            "max_height": null,
            "max_width": null,
            "min_height": null,
            "min_width": null,
            "object_fit": null,
            "object_position": null,
            "order": null,
            "overflow": null,
            "overflow_x": null,
            "overflow_y": null,
            "padding": null,
            "right": null,
            "top": null,
            "visibility": null,
            "width": null
          }
        },
        "b4504ffd6ea44c2dbe2a868e717b26f8": {
          "model_module": "@jupyter-widgets/controls",
          "model_name": "SliderStyleModel",
          "model_module_version": "1.5.0",
          "state": {
            "_model_module": "@jupyter-widgets/controls",
            "_model_module_version": "1.5.0",
            "_model_name": "SliderStyleModel",
            "_view_count": null,
            "_view_module": "@jupyter-widgets/base",
            "_view_module_version": "1.2.0",
            "_view_name": "StyleView",
            "description_width": "",
            "handle_color": null
          }
        },
        "df656d8b261e445faf01fcd947149537": {
          "model_module": "@jupyter-widgets/base",
          "model_name": "LayoutModel",
          "model_module_version": "1.2.0",
          "state": {
            "_model_module": "@jupyter-widgets/base",
            "_model_module_version": "1.2.0",
            "_model_name": "LayoutModel",
            "_view_count": null,
            "_view_module": "@jupyter-widgets/base",
            "_view_module_version": "1.2.0",
            "_view_name": "LayoutView",
            "align_content": null,
            "align_items": null,
            "align_self": null,
            "border": null,
            "bottom": null,
            "display": null,
            "flex": null,
            "flex_flow": null,
            "grid_area": null,
            "grid_auto_columns": null,
            "grid_auto_flow": null,
            "grid_auto_rows": null,
            "grid_column": null,
            "grid_gap": null,
            "grid_row": null,
            "grid_template_areas": null,
            "grid_template_columns": null,
            "grid_template_rows": null,
            "height": null,
            "justify_content": null,
            "justify_items": null,
            "left": null,
            "margin": null,
            "max_height": null,
            "max_width": null,
            "min_height": null,
            "min_width": null,
            "object_fit": null,
            "object_position": null,
            "order": null,
            "overflow": null,
            "overflow_x": null,
            "overflow_y": null,
            "padding": null,
            "right": null,
            "top": null,
            "visibility": null,
            "width": null
          }
        },
        "3d2338f6936f4af1b2b769787b39c84f": {
          "model_module": "@jupyter-widgets/controls",
          "model_name": "SliderStyleModel",
          "model_module_version": "1.5.0",
          "state": {
            "_model_module": "@jupyter-widgets/controls",
            "_model_module_version": "1.5.0",
            "_model_name": "SliderStyleModel",
            "_view_count": null,
            "_view_module": "@jupyter-widgets/base",
            "_view_module_version": "1.2.0",
            "_view_name": "StyleView",
            "description_width": "",
            "handle_color": null
          }
        },
        "c8125fdd839a43f781f7a192a1331783": {
          "model_module": "@jupyter-widgets/base",
          "model_name": "LayoutModel",
          "model_module_version": "1.2.0",
          "state": {
            "_model_module": "@jupyter-widgets/base",
            "_model_module_version": "1.2.0",
            "_model_name": "LayoutModel",
            "_view_count": null,
            "_view_module": "@jupyter-widgets/base",
            "_view_module_version": "1.2.0",
            "_view_name": "LayoutView",
            "align_content": null,
            "align_items": null,
            "align_self": null,
            "border": null,
            "bottom": null,
            "display": null,
            "flex": null,
            "flex_flow": null,
            "grid_area": null,
            "grid_auto_columns": null,
            "grid_auto_flow": null,
            "grid_auto_rows": null,
            "grid_column": null,
            "grid_gap": null,
            "grid_row": null,
            "grid_template_areas": null,
            "grid_template_columns": null,
            "grid_template_rows": null,
            "height": null,
            "justify_content": null,
            "justify_items": null,
            "left": null,
            "margin": null,
            "max_height": null,
            "max_width": null,
            "min_height": null,
            "min_width": null,
            "object_fit": null,
            "object_position": null,
            "order": null,
            "overflow": null,
            "overflow_x": null,
            "overflow_y": null,
            "padding": null,
            "right": null,
            "top": null,
            "visibility": null,
            "width": null
          }
        },
        "775964d9275c4de5ab5af2c5603e7b61": {
          "model_module": "@jupyter-widgets/controls",
          "model_name": "SliderStyleModel",
          "model_module_version": "1.5.0",
          "state": {
            "_model_module": "@jupyter-widgets/controls",
            "_model_module_version": "1.5.0",
            "_model_name": "SliderStyleModel",
            "_view_count": null,
            "_view_module": "@jupyter-widgets/base",
            "_view_module_version": "1.2.0",
            "_view_name": "StyleView",
            "description_width": "",
            "handle_color": null
          }
        },
        "5cfb2a1f196a4ed484540941be7577c4": {
          "model_module": "@jupyter-widgets/base",
          "model_name": "LayoutModel",
          "model_module_version": "1.2.0",
          "state": {
            "_model_module": "@jupyter-widgets/base",
            "_model_module_version": "1.2.0",
            "_model_name": "LayoutModel",
            "_view_count": null,
            "_view_module": "@jupyter-widgets/base",
            "_view_module_version": "1.2.0",
            "_view_name": "LayoutView",
            "align_content": null,
            "align_items": null,
            "align_self": null,
            "border": null,
            "bottom": null,
            "display": null,
            "flex": null,
            "flex_flow": null,
            "grid_area": null,
            "grid_auto_columns": null,
            "grid_auto_flow": null,
            "grid_auto_rows": null,
            "grid_column": null,
            "grid_gap": null,
            "grid_row": null,
            "grid_template_areas": null,
            "grid_template_columns": null,
            "grid_template_rows": null,
            "height": null,
            "justify_content": null,
            "justify_items": null,
            "left": null,
            "margin": null,
            "max_height": null,
            "max_width": null,
            "min_height": null,
            "min_width": null,
            "object_fit": null,
            "object_position": null,
            "order": null,
            "overflow": null,
            "overflow_x": null,
            "overflow_y": null,
            "padding": null,
            "right": null,
            "top": null,
            "visibility": null,
            "width": null
          }
        },
        "ac385fb7749b4bbe9c5d6a1219974907": {
          "model_module": "@jupyter-widgets/controls",
          "model_name": "VBoxModel",
          "model_module_version": "1.5.0",
          "state": {
            "_dom_classes": [
              "widget-interact"
            ],
            "_model_module": "@jupyter-widgets/controls",
            "_model_module_version": "1.5.0",
            "_model_name": "VBoxModel",
            "_view_count": null,
            "_view_module": "@jupyter-widgets/controls",
            "_view_module_version": "1.5.0",
            "_view_name": "VBoxView",
            "box_style": "",
            "children": [
              "IPY_MODEL_a43281614d914bf9b92abe520f3accb8",
              "IPY_MODEL_a2f256d4a8f54e3490a565bf2af0c902",
              "IPY_MODEL_adbe049fa2ad43b1ae2762d341b2b0a2",
              "IPY_MODEL_87120c11a9bf490fbda9775a0bfaa194"
            ],
            "layout": "IPY_MODEL_02ef0287b4f04c76869a3fe5a213132a"
          }
        },
        "a43281614d914bf9b92abe520f3accb8": {
          "model_module": "@jupyter-widgets/controls",
          "model_name": "FloatSliderModel",
          "model_module_version": "1.5.0",
          "state": {
            "_dom_classes": [],
            "_model_module": "@jupyter-widgets/controls",
            "_model_module_version": "1.5.0",
            "_model_name": "FloatSliderModel",
            "_view_count": null,
            "_view_module": "@jupyter-widgets/controls",
            "_view_module_version": "1.5.0",
            "_view_name": "FloatSliderView",
            "continuous_update": true,
            "description": "a",
            "description_tooltip": null,
            "disabled": false,
            "layout": "IPY_MODEL_7037ced1fcb247a385e87e51d124a779",
            "max": 3.3000000000000003,
            "min": -1.1,
            "orientation": "horizontal",
            "readout": true,
            "readout_format": ".2f",
            "step": 0.1,
            "style": "IPY_MODEL_ed0d5b9ac95e429e80b4d2a2c432ae4f",
            "value": 2.5
          }
        },
        "a2f256d4a8f54e3490a565bf2af0c902": {
          "model_module": "@jupyter-widgets/controls",
          "model_name": "FloatSliderModel",
          "model_module_version": "1.5.0",
          "state": {
            "_dom_classes": [],
            "_model_module": "@jupyter-widgets/controls",
            "_model_module_version": "1.5.0",
            "_model_name": "FloatSliderModel",
            "_view_count": null,
            "_view_module": "@jupyter-widgets/controls",
            "_view_module_version": "1.5.0",
            "_view_name": "FloatSliderView",
            "continuous_update": true,
            "description": "b",
            "description_tooltip": null,
            "disabled": false,
            "layout": "IPY_MODEL_5de741425b324be09b0aec1dd4d1f320",
            "max": 3.3000000000000003,
            "min": -1.1,
            "orientation": "horizontal",
            "readout": true,
            "readout_format": ".2f",
            "step": 0.1,
            "style": "IPY_MODEL_67ff5a1374b349c9b73aa6ea9924771b",
            "value": 1.5
          }
        },
        "adbe049fa2ad43b1ae2762d341b2b0a2": {
          "model_module": "@jupyter-widgets/controls",
          "model_name": "FloatSliderModel",
          "model_module_version": "1.5.0",
          "state": {
            "_dom_classes": [],
            "_model_module": "@jupyter-widgets/controls",
            "_model_module_version": "1.5.0",
            "_model_name": "FloatSliderModel",
            "_view_count": null,
            "_view_module": "@jupyter-widgets/controls",
            "_view_module_version": "1.5.0",
            "_view_name": "FloatSliderView",
            "continuous_update": true,
            "description": "c",
            "description_tooltip": null,
            "disabled": false,
            "layout": "IPY_MODEL_7557438ea1eb4544a7f7ddbf0de27e96",
            "max": 3.3000000000000003,
            "min": -1.1,
            "orientation": "horizontal",
            "readout": true,
            "readout_format": ".2f",
            "step": 0.1,
            "style": "IPY_MODEL_5398bc06b98a409c9a55042808108a1e",
            "value": 0.4
          }
        },
        "87120c11a9bf490fbda9775a0bfaa194": {
          "model_module": "@jupyter-widgets/output",
          "model_name": "OutputModel",
          "model_module_version": "1.0.0",
          "state": {
            "_dom_classes": [],
            "_model_module": "@jupyter-widgets/output",
            "_model_module_version": "1.0.0",
            "_model_name": "OutputModel",
            "_view_count": null,
            "_view_module": "@jupyter-widgets/output",
            "_view_module_version": "1.0.0",
            "_view_name": "OutputView",
            "layout": "IPY_MODEL_b4b5df19becc4ab3a3afe86962c2f2fb",
            "msg_id": "",
            "outputs": [
              {
                "output_type": "display_data",
                "data": {
                  "text/plain": "<Figure size 576x432 with 1 Axes>",
                  "image/png": "iVBORw0KGgoAAAANSUhEUgAAAesAAAGHCAYAAACQxXqAAAAAOnRFWHRTb2Z0d2FyZQBNYXRwbG90bGliIHZlcnNpb24zLjEwLjAsIGh0dHBzOi8vbWF0cGxvdGxpYi5vcmcvlHJYcgAAAAlwSFlzAAAN1wAADdcBQiibeAAAPYVJREFUeJzt3XuczGX/x/HXzK7W2S5yWMvqQEQWqcivopAONjlF0R1RKVLR3VFtwl23SoV00p2UQ6rboaLSTfdNS5FdWiKxWLLI7gp7sDvz++NqN5tde5qZ73dm3s/HYx67zczOfHJ6z3V9r+tzOdxutxsRERGxLafVBYiIiMiZKaxFRERsTmEtIiJicwprERERm1NYi4iI2JzCWkRExOYU1iIiIjansBYREbE5hbWIBeLi4nA4HDRr1qzIx5s1a4bD4SAuLq7Ix8855xwcDgc7duw47bFVq1bhcDiKvA0fPrzMtb722mvccMMN1KlTB4fDwapVq0r9s4sXL+aiiy6icuXKXHjhhSxYsOC05yQlJdGjRw+qVq1K3bp1GTlyJMeOHStznSKBTGEtYpHKlSuza9cu1q9fX+j+77//nuTkZCpXrlzkz8XHx5OcnAzAvHnzin39Dz74gPj4+EK3xx9/vMx1vvfeexw5coRrr722TD+3evVq+vbtS9euXVm2bBk33HADgwYN4ssvvyx4TkZGBldffTWZmZksWLCAF154gY8//pjBgweXuU6RQBZqdQEiwapatWq0b9+e+fPn06FDh4L758+fz9VXX82GDRuK/Ll58+ZRrVo1Wrduzbx58xg/fnyRz2vTpg2tW7eucJ3ffvstTqeTH3/88YwfDv7q2Wef5corr+TVV18FoGvXriQlJTFhwgR69OgBmFF7ZmYmS5cuJTw8HIA6deoQGxvL+vXrC/26iAQzjaxFLDRw4EA+/PBD8lv0u91uPvzwQwYOHFjk8/Py8vjwww+JjY1l2LBhbN26lcTERK/W6HSW/Z+J7OxsVq5cyYABAwrdP3DgQOLj48nIyAAgISGBDh06FAQ1QPfu3XE4HHz22WcVqlskkCisRSzUp08fUlNTWb16NQD/+9//OHToEH369Cny+StXriQ1NZWBAwfSr18/KlWqVOxoNy8vj9zc3EK3U8/tyb9u7g2//PILJ0+epEWLFoXub9myJS6Xi+3btwOQlZXFWWedVeg5oaGhOJ1Otm7d6pXaRPyRwlrEQuHh4fTs2ZP58+cDZgq8Z8+e1KpVq8jnz5s3r+BnateuTY8ePZg/fz5FHZ7Xtm1bKlWqVOg2e/bsgsedTichISFe+f9KS0sDKDRiBoiIiCj0+Pnnn09iYiInT54seM6GDRvIy8vjyJEjXqlNxB8prEUsNnDgQD766COys7P56KOPip0Cz8nJ4ZNPPuHmm28uGI0OHDiQ3bt3Ex8ff9rz58+fz/fff1/o1qtXr4LHn3rqKXJzc73zP1VKI0aM4NChQ4wePZoDBw6QlJTEvffeS0hISLmm30UClf42iFgsNjaWY8eO8cQTT3D8+PFCgXqqZcuWkZ6ezvXXX096ejrp6el06dKFsLCwIqfCW7VqRYcOHQrd6tSp4+3/HeDPEXT+tel8+SPq/MdbtGjBm2++ybx582jYsCFt2rTh0ksvpW3btjRo0MAntYr4A4W1iMWqVavGjTfeyNSpU+nVqxfVqlUr8nn5gdy/f38iIiKIiIigcePGZGdns3DhQvLy8nxZ9hmdd955VKpUiZ9++qnQ/T/99BNOp5PmzZsX3Dds2DBSU1PZtGkT+/fvZ/r06ezYsYOOHTv6umwR29LWLREbGDlyJNnZ2dxzzz1FPn78+HGWLl3KoEGDuOuuuwo9tnHjRh566CH+85//0L17d1+UW6KwsDC6du3KwoULufvuuwvuX7BgAZ06dTrtmnzlypW56KKLAJg9ezYul+u0leQiwUxhLWIDXbp0oUuXLsU+vnjxYk6cOMGYMWO47LLLCj3WuXNnJk2axLx58wqF9aZNm07rBFarVi1atmwJwIQJE5gwYUKJ163Xr19PcnIye/fuBeCbb77h8OHDNG3atGAf9HvvvcewYcP45ZdfiI6OBmD8+PF06dKFBx54gN69e/P555/z+eefs3z58oLXPnr0KJMmTeLKK68kNDSUlStX8uKLL/LWW29Ru3btEn7VRIKHwlrED8ybN49mzZqdFtQAlSpVYsCAAcydO5eZM2cW3H/bbbed9txrrrmGFStWAOByuUo1dT59+vRCq8jzW6D+7W9/49133y30WqeuSv+///s/PvroI5588klmzpzJOeecw9y5cwsaogCEhISwceNG3nrrLTIzM2ndujULFy6kd+/eJdYlEkwc7qL2fIiIiIhtaIGZiIiIzSmsRUREbK5cYT19+nQ6dOhAWFhYoWtLBw8e5LbbbiMqKoqaNWvSrl07lixZ4qlaRUREglK5wjoyMpInn3ySESNGFLr/2LFjtGvXjrVr15Kens6ECRMYNGgQW7Zs8UixIiIiwahCC8zi4uJISEhg0aJFxT6nffv2jBo1imHDhpX3bURERIKaV69ZHzx4kK1bt9KmTRtvvo2IiEhA89o+65ycHAYOHMiAAQPOeIB8XFwczzzzjLfKEBER8Qtnmuj2yjR4Tk4O/fr1w+Vy8cknn5x2Xu2ZOByOMxbsKYs27mPswkTyXKe/V4jTwYv9Y+jdrpHX6xAREQ9bsgRuugl69IAvvrC6mlIpKfs8Pg2ek5ND//79ycnJ4eOPPy5TUPvSnPhkXEUENYDL5WbO2t0+rkhERDzijTfM11P60vu7ck2D5+bmFtxcLhdZWVk4nU4cDgcDBgzg+PHjfPrpp4SFhXm6Xo9JSc+kuM8wbmBf2glfliMiIp6wezcsWwYNGkAxx836o3KNrCdOnEiVKlWYNGkSS5cupUqVKvTo0YNvv/2WxYsXs2bNGurWrUv16tWpXr06kydP9nTdFRYVXgVHMY85gEYRVX1ZjoiIeMLbb4PbDXfeCZUqWV2Nx9iuN7iuWYuISLmcPAnR0XDgAOzaZb73Ez6/Zu0vYmMi6dmqPiFOR8EI24EJ6p6t6hMbE2lleSIiUlaffgq//go9e/pVUJdG0I6swSwkW5K4nzlrd7Mv7QSNIqoypGM0sTGROJ3FTZKLiIgt9egBX30FixdDbKzV1ZRJSdkX1GEtIiIB4uefoXlzaNzYTIGHhFhdUZloGlxERAJf/natu+7yu6AuDY2sRUTEv2VmQlQUHD0Ke/eabVt+RiNrEREJbAsXwpEjcPPNfhnUpaGwFhER/zZzpvk6cqS1dXiRpsFFRMR/JSRAu3bQogVs2QIO/9zJo2lwEREJXPmj6nvu8dugLg2NrEVExD9lZECjRuBywf79EB5udUXlppG1iIgEpjlz4PhxGDTIr4O6NDSyFhER/+N2Q6tWsHUrrF8PF19sdUUVopG1iIgEnpUrTVBfdpnfB3VpKKxFRMT/zJhhvt53n7V1+IimwUVExL+kpEDTplC7NuzZA5UrW11RhWkaXEREAssbb0BeHgwfHhBBXRoaWYuIiP/IyYEmTeDQIXO6VpMmVlfkERpZi4hI4Pj4Y0hNhV69AiaoS0NhLSIi/iPIFpbl0zS4iIj4h/w+4M2bm21bzsAZb2oaXEREAkP+qPreewMqqEtDI2sREbG/336DqCgICYF9+6BWLasr8iiNrEVExP/NmgVZWXDHHQEX1KWhkbWIiNhbbi6cd55pgLJ1qzm7OsBoZC0iIv5t6VIT1N27B2RQl4bCWkRE7O3VV83X+++3tg4LaRpcRETsa/NmaNMGzj0Xtm83C8wCkKbBRUTEf02fbr6OGhWwQV0aGlmLiIg9HTlitms5HGa7Vng4LpebJYn7mROfTEp6JlHhVRjSqSmxMZE4nQ6rKy63krIv1Ie1iIiIlN4770BmJtxzT0FQj573A8uTUnG53LiBg0ezSUhJ5KstB5g2qL1fB/aZaBpcRETsJzf3zynw0aMBWJK4n+VJqeT9EdQAbiDP5WZ5UipLEvdbUqovKKxFRMR+Fi+G3buhRw+48EIA5sQn43IVPVXscrmZs3a3Lyv0KYW1iIjYz8svm68PPFBwV0p6JsVd1XUD+9JOeLko6yisRUTEXjZsgNWrzela115bcHdUeBWKuyLtABpFVPVJeVZQWIuIiL288or5OmZModO1hnRqWuwCMqfTwZCO0b6ozhLlCuvp06fToUMHwsLC6N27d6HHjh49yq233krNmjWpX78+zz77rCfqFBGRYPDrrzB/PoSHw+23F3ooNiaSnq3qE+J0FIywHUCI00HPVvWJjYn0dbU+U66tW5GRkTz55JOsWLGClJSUQo+NHj2aI0eOsGfPHg4ePEi3bt2Ijo7m9r/8oouIiJxm5kw4eRKGD4fq1Qs95HQ6mDaovdlnvXY3+9JO0CiiKkM6Rvv9PuuSVKgpSlxcHAkJCSxatAiAEydOEBERwZo1a+jQoQMAU6ZM4dNPP+Wbb74pXUFqiiIiEpyysqBxY9MMZedOiA7cae2/8mm70W3btpGTk0Pbtm0L7mvbti2bNm0q9mfi4uJwOBwFNxERCVJz58Lhw9CnT1AFdWl4NKyPHTtGtWrVCA39c3Y9PDyc33//vdifiYuLw+12F9xERCQIud1/btcaM8bSUuzIo2FdvXp1Tpw4QW5ubsF9GRkZ1KhRw5NvIyIigebrr80JW5dcAp07W12N7Xg0rC+44AIqVapEYmJiwX0JCQlcdNFFnnwbEREJNC+9ZL4+9JA5uEMKKVdY5+bmkpWVRW5uLi6Xi6ysLHJycqhatSq33HIL48ePJyMjg59//plp06YxfPhwT9ctIiKBYssWWLbMLC7r29fqamypXGE9ceJEqlSpwqRJk1i6dClVqlShR48egNmDXatWLaKioujcuTN33nmntm2JiEjxTr1WXamSpaXYlc6zFhER6xw8CE2amJBOSYFatayuyBI+3bolIiJSJjNnQna2aYISpEFdGhpZi4iINbKyzKj6t99gxw445xyrK7KMRtYiImJPH3wAhw6ZRWVBHNSloZG1iIj4nssFF11kVoLHx0PHjlZXZCmNrEVExH6WLTNBffnlQR/UpaGwFhER33vhBfP14YetrcNPaBpcRES8xuVymyMt45NJSc8kKrwKo2tl0GXwDdCsGWzdCiEhVpdpuZKyr1znWYuIiJTE5XIzet4PLE9KxeVy4wYOHs3m+JLnzeMPPoRTQV0qmgYXERGvWJK4n+VJqeT9EdQAjdIP0POnNfxWtRaftu1maX3+RGEtIiJeMSc+GZer8NTunesXE+J2Mbv9jcxOOGhRZf5H0+AiIuIVKemZnBrV4ZlHuWXTl2SGhjGn3fWEpZ2wrDZ/o5G1iIh4RVR4FU497HLwxs+pejKbD9t0I71qLRpFVLWsNn+jsBYREa8Y0qkpTqeJ67CT2fxtw6fkOZzM6tAbp9PBkI7RFlfoPxTWIiLiFbExkfRsVZ8Qp4N+P37N2SfSWd78cvbVMffHxkRaXaLf0D5rERHxGpfLzdINe7js+stpcHg/Dz86i84DriU2JrJg1C0lZ5/CWkREvGvBAhg4ELp1g6++sroaW1JvcBERsY7bDc+bJig88oi1tfgxhbWIiHjPihWwcSO0bw/XXGN1NX5LYS0iIt7z3HPm66OPgkPXqMtL16xFRMQ71q+HSy6B88+Hn37SgR1noGvWIiJijfxr1ePGKagrSCNrERHxvG3boGVLqFcPkpOhcmWrK7I1jaxFRMT3nn/erAR/6CEFtQdoZC0iIp61Zw+cdx5Urw67d0PNmlZXZHsaWYuIiG+98ALk5sLo0QpqD9HIWkREPOfgQYiOBqfTjKrr1rW6Ir+gkbWIiPjOyy9DVhbcfbeC2oM0shYREc9ITzej6sxM2LULGjWyuiK/UVL2hfqwFhERsTmXy82SxP3MiU8mJT2TqPAqDOnUtHSnZM2YAUePwogRCmoPC/yRtdutFnciIqXgcrkZPe8Hliel4nK5cQMOwOl00LNVfaYNal98YB8/Dk2bwpEjZo/1+ef7sHL/F9zXrOfPhwsvNNMxIiJyRksS97M8KZW8P4IawA3kudwsT0plSeL+4n/4jTfg8GG45RYFtRcEdlhv32760eY3khcRkWLNiU/G5Sp6dOdyuZmzdnfRP5iZCVOmmO+feMJL1QW3wA7r++83e/z+9S/Yu9fqakREbC0lPZPiJmLdwL60E0U/OGsWHDgAfftCq1beKi+oBXZYh4ebwD558s+G8iIiUqSo8CoUt8LHATSKqHr6A9nZf/77+uST3iot6HklrPft20fv3r2pU6cOdevWZcCAARw6dMgbb1WyBx4wLe/efhv2n+F6i4hIkBvSqWmxC8icTgdDOkaf/sDs2ZCSAr16Qdu23i0wiHklrO+77z4Adu/eza5du8jKyuL+++/3xluVrE4duO8+8+kv/5qKiIicJjYmkp6t6hPidBSMsB1AyB+rwWNjIgv/wMmT8I9/mO/Hj/dlqUHHK2G9c+dOBgwYQPXq1alRowa33HILmzdv9sZblc5DD0GVKma1YmqqdXWIiNiY0+lg2qD2vNg/hvbRETSoGUb76Ahe7B9T9LatuXPN8ZfXXguXXGJJzcHCK2H90EMPsXDhQjIyMkhPT2fevHn06tWryOfGxcXhcDgKbl5Rrx6MHGlWLL74onfeQ0QkADidDnq3a8THIy9n7ePd+Hjk5fRu1+j0oM7Lg8mTzfcaVXudV5qi/Pzzz9xxxx3Ex8cD0KlTJ5YtW0bNUpy+4rV2o7/+CuecA6Gh5pOgetaKiJTf3Llw223QtSv85z9WV+P3fN4UxeVy0b17dzp37syxY8c4duwYnTt3pkePHp5+q7Jp2BDuust02XnpJWtrERHxZ3l5MGGC+f7pp62tJUh4fGR9+PBhzj77bPbu3UtUVBQAe/fupUmTJhw6dIi6JYxovXqQx759cO65cNZZpquZRtciImWnUbXH+XxkXbduXc4//3xmzJhBVlYWWVlZzJgxg6ioqBKD2usaNTKj62PHNLoWESkPjaot4ZUFZosXL+aHH36gUaNGNGzYkO+++44lS5Z4463K7tFHISwMpk0zfWxFRKT0FiwwB3V07QpXXWV1NUEj8E/dKsr995uwfvTRP/cIiojImeXlmXai27bBqlUKaw8qKfuCM6z37zfXrkNDzbXrs8/27vuJiAQCXav2muA+IrM4kZFw991mZbj2XYuIlEzXqi0VnCNr0OhaRKQs3n8fhgzRqNpLNLIuzqmja/UMFxEp3smT8Mwz5vv8r+JTwTuyBtPV7NxzweGAnTuhQQPfvK+IiD+ZNQuGD4cePeCLL6yuJiBpZH0mDRvCqFGmZ7hWhYuInC4nB5591nyf/1V8LrhH1gCHDpnRdU4O7NgBjRv77r1FROxu5ky491648UZYutTqagKWRtYlOftsGDPGhPWkSVZXIyJiH5mZMHGi+T5/JbhYQmENMHYs1Kplrsvs3Gl1NSIi9vDGG2bnTN++0K6d1dUENYU1QEQEjBsHubn69CgiAmanzD/+YRbgagW45RTW+caMgTp1YM4c00pPRCSYTZ8OBw/CwIGmxahYSmGdr0YNeOQRcLnUnUdEglt6Ojz/PISEaFRtEwrrU913n9nOtWABbNxodTUiItaYMgXS0mDYMGjWzOpqBG3dOl3+NoXrroPPP7euDhERK6Smmu2seXlmO2tUlNUVBQVt3SqrO+80f1CXLYP//tfqakREfGvSJDhxwsw0KqhtQyPronzwAQweDJdfDqtXm9WQIiKBbvduM+0dFma2seqAI5/RyLo8Bg2Ciy6Cb7+Fzz6zuhoREd+IizOHdowdq6C2GY2si7N0KcTGQps2ZrGZU59rRCSAbd0KrVubvhM7d0LNmlZXFFQ0si6vG2+ETp1g0yaYP9/qakREvOuJJ8zW1UcfVVDbkEbWZ/LNN9Cli1lwtnUrnHWW1RWJiHhefLxZo9O4MWzfDpUrW11R0NHIuiKuusps4dq50/TIFREJNG63aQgFpt2ygtqWNLIuyaZN0LataUX6yy+aHhKRwPLpp9Crl2kpmphoupaJz2lkXVFt2sDtt8Phw6arzxm4XG4WbdxH39fWcNnkFfR9bQ2LNu7D5bLRhw8RkXx5eeYaNcBzzymobUwj69LYsweaNzd/kHfsMC1J/8LlcjN63g8sT0rF5XLjBhyA0+mgZ6v6TBvUHqdT+7VFxEbefReGDoUrrjBrdNRTwjIaWXtCkyYwerTp6lNMU/sliftZnpRK3h9BDeAG8lxulielsiRxv8/KFREpUWYmjB9vvv/nPxXUNqewLq3HHoPwcHj77SKP0JwTn1zsdLfL5WbO2t1eLlBEpAymT4eUFOjTBzp2tLoaKYHCurRq1zaBnZdnvv5FSnomxU1guIF9aSe8Wp6ISKn99pvpAR4SYr6K7Smsy2L0aLMP8d//Nj3DTxEVXoXiJpEcQKOIql4vT0SkVJ59FjIy4O67oUULq6uRUlBYl0WVKjB5svl+7FizP/EPQzo1LXYBmdPpYEjHaF9UKCJyZj//DDNmQI0a8PTTVlcjpaSwLqtbb4X27eG772DBgoK7Y2Mi6dmqPiFOR8EI2wGE/LEaPDYm0pJyRUQKeewxyM01X+vVs7oaKSVt3SqPVauga1eIjoaffiro+ONyuVmSuJ85a3ezL+0EjSKqMqRjNLExkdq2JSLW+/Zb6NzZnFO9fbuZLRRbKCn7FNblddNNsGSJ2fLw8MNWVyMicmZut+n/vXYtvPceDBlidUVyCoW1t/z0kzlOrnp10yilbl2rKxIRKd7ChTBgALRrB+vX69hfm1FTFG9p0QLuucesqJwwwepqRESKl5X152EdL7ygoPZDGllXxKFDcP75prPZ5s3aAiEi9vT886YHeGwsLF5sdTVSBMtG1kuWLKFt27ZUq1aNyMhIXn/9dW+9lXXOPhuefNKsrBw3zitvocNBRKRCDhwwjU9CQ0s8jEjsyysj6+XLlzN8+HDef/99rrjiCo4ePUpqaiotSjHy9KuRNUB2tjla7pdfYPlyuPZaj720DgcRkQobMcK0SX7wQXjpJaurkWJYssDskksuYcSIEdx1111l/lm/C2uARYvg5puhZUtz/nVoqGdeduM+xi5MJK+IUXSI08GL/WPo3a6RR95LRAJQQoLpC1G7tmmGEhFhdUVSDJ9Pgx8/fpwNGzawb98+mjdvToMGDejfvz+//vprkc+Pi4vD4XAU3PzSTTeZfddbt8Ibb3jsZXU4iIiUm9ttRtNutzktUEHt1zwe1mlpabjdbhYtWsRXX33Fjh07CAsLY/DgwUU+Py4uDrfbXXDzSw4HvPyyWWH51FNw5IhHXlaHg4hIuS1ebBo4XXih6QEufs3jYV29enUA7r//fqKjo6levTrPPPMMK1eu5Pjx455+O/to0waGDzdB7aGtXDocRETKJSvrz0WvL73ksUtzYh2Ph3V4eDhNmjQp8jG/HTmX1rPPQs2apkn+li0VfjkdDiIi5TJ1qln0ev31Hl30Ktbxytatu+66i2nTprFv3z4yMzOZMGEC11xzTcGoO2DVq2dOscnNhTFjCp3KVR46HEREyiwlBSZOhEqVzOU5CQheWQ2el5fH3//+d2bPng1A165dmTZtGg0aNCi5IH9cDX6qnByIiTHtSD/5xKwSrwAdDiIiZXLbbTB3rulY9txzVlcjpaTe4Fb48ksz9dS0qZkO18k2IuILq1fDFVdAw4awbZs5s1r8gnqDW6FHD+jdG5KT1TFIRHwjLw9Gjzbf//OfCuoAo5G1t+zcabZMOBxmSjxai8FExIveeMMcLtSpE6xZY/7tEb+hkbVVzj0X/v53s4Vi7FirqxGRQPbbb/DEEyagp01TUAcgjay96cQJcxLX3r3mOnb37lZXJCIWKlgwGp9MSnomUeFVGNKpacUXjN59N7z5Jtx1l0e7KIrvaIGZ1T76CPr3h+bNTd/wsDCrKxIRC3jtYJ7vvoOOHU3/723boE4dT5cuPqBpcKv17WsWnG3fDi++aHU1ImKRJYn7WZ6USt4fQQ2mbXCey83ypFSWJO4v+4vm5cG995qeDs8/r6AOYAprb3M4YPp0OOss06ggOdnqikTEAl45mOett2DDBrjsMhg6tIIVip0prH2hWTOz2Cwz05yCIyJBx+MH8xw6BI8/bg4Qeu0181UCln53feWxx0yTlEWL4PPPra5GRHzM4wfzPPoopKXByJHmzGoJaAprX6laFV591Xw/erQZZYtI0PDowTyrV8M778DZZ5sDhCTgKax9qVcvc9u5EyZPtroaEfEhjx3Mk5Njmp+AWbQaEeGNcsVmtHXL13bvNp3NTp6ExERo2dLqikTERzxyMM9zz5nLaldfDStWqAFKgNA+azt68UVzMPwVV8CqVVoYIiKls2sXtGpltmxt2gQXXGB1ReIhCms7ys2FDh3MyHrWLBg2zOqKRMTu3G644QZYtgyefhri4rzXEU18TmFtV+vWmYb74eHmoI969ayuSETsbOFCGDDAbAXdtAnXWWHe6YgmllAHM7u67DLTeSgtzUyJi4gUJyMDxowx37/+OlSu7J2OaGJbCmsrTZpkDomfM8csFBERKcqjj8Kvv8LgwWZhGV7qiCa2pbC2Uq1a5jg7MKfmnChjByMRCXz/+58ZTdetC1OnFtzt8Y5oYmsKa6v16QO9e5u91089ZXU1ImInWVkwYoT5/uWXTWD/weMd0cTWFNZWyz/oo2ZN86l5/XqrKxIRu5g0yRx72bMn3HproYc82hFNbE+rwe3izTfNVHibNiawK1WyuiIRr9K2oxJs2gQXXwxhYZCUBNGFw9dr52OLJbR1y1+4XGbhyDffmE/Tjz9udUUiXqOgKUFentna+f338MorcP/9RT7NIx3RxBYU1v5k+3YzsgbTMEXdiSRALdq4j7ELE8krYjVziNPBi/1j6N2ukQWV2UR+l8PLLoM1ayAkxOqKxMu0z9qfNG8OcXGQnW26muXlWV2RiFdo29EZbN8OTz4JZ51lOhwqqAWFtf2MG2euU3377Z9HaooEGG07KkZenvmgnpVlWoq2amV1RWITCmu7CQ2Fd981C8wefxx+/tnqikQ8TtuOijF9upn2bt8eHn7Y6mrERhTWdtS6tflUnZUFQ4dqOlwCjrYdFeGXX8zRl5Uqwb/+pR0hUojC2q7+/nfz6XrNGvNpWySAxMZE0rNVfUKcjoIRtgOzuKxnq/rExkRaWZ7vuVxw552QmQlPPPHnQlORP2g1uJ1t2mSO0gwNNd+ff77VFYl4jLYdnWLaNLM9KyYGvvvOLC6ToKKtW/5uwgQzJd65s9mDrZWhIoFl+3Zo29acc//dd+Z7CTrauuXvHnvMrA5fswZeesnqakTEk3Jz4fbbzfT3008rqKVYGln7gy1bzPVrt9u0Ir3oIqsrEhFPmDzZXKO+9FLzgTw01OqKxCKaBg8UU6fCQw/pmpZIoEhMhEsuMZe2Nm6EFi2srkgspGnwQDFmDFx1lfkLPmGC1dWISEVkZ8OQIXDyJDz3nIJaSuTVkXVmZiYXXXQRhw8fJj09vXQFaWRdvORks6Xj+HEzZdaxo9UViUh5PPII/POf0KULfP01ODVuCnaWjqyfeuopoqODsLmBtzRtag6gd7lg8GA4dszqikSkrFatgilTzBn2776roJZS8dqfkg0bNrB8+XIeeeQRb71FcBo6FHr3Nt2OxoyxuhoRKYu0NDP97XbDzJmnnVEtUhyvhHVubi4jRoxgxowZnFXCQqi4uDgcDkfBTUrgcMBbb0HDhvDOO/DRR1ZXJCKl4XbDyJGQkgK33mpuIqXklbCeMmUK7dq148orryzxuXFxcbjd7oKblELdujB7tvn+rrvMX34Rsbf334cFC6BJE5gxw+pqxM94PKx37NjB66+/zpQpUzz90nKq7t3hwQfNtNrtt5vr2CJiT8nJcN99ZmZszhwID7e6IvEzHg/r1atXk5qaSvPmzalbty433XQTR48epW7duqxbt87TbxfcJk82DVJWroQXXrC6GhEpysmTZsr799/h0UehFDOOIn/l8a1bJ06c4MiRIwX/HR8fz/Dhw0lKSqJevXolXsPW1q0y+vFHc9hHXp7ZznXppVZXJCKnevxx+Mc/zN/N1at19KUUyedbt6pWrUpUVFTB7eyzz8bhcBAVFVViUEs5tG5ttnPl5sLAgZCRYXVFIpLv669N05OaNWHePAW1lJvajQYCtxv694ePP4YBA2D+fHNtTESsc/CgaQ984ID5O3nLLVZXJDamdqPBwOGAt982ezY//NB8LyLWcbngb38zQX3nnQpqqTCNrAPJ2rXwf/9nptrWr4dWrayuSCQ4vfACPPyw6fm9fj1Uq2Z1RWJzGlkHk44dYdIkyMoy0+HHj1tdkUjwWbPGrPquXNnsq1ZQiwcorAPNww/DtdeaM7DvucdczxYR3zh0yEx55+XB9Onm4B0RD1BYBxqn03RKiooyX996y+qKRIJD/gE7+/aZRkXDhlldkQQQXbMOVPHxpvlCSAh8+y20b291RSKB7dln4amnzFqRdes0/S1lUlL2KawD2csvm5ak55wDP/ygFoci3vL116YFcNWq8P330LKl1RWJn9ECs2A2Zgz07Qu7dsEdd6h/uIg37N0LgwaZ9SFvvKGgFq9QWAcyhwNmzYLzz4fFi03LQxHxnOxs6NfPLCy77z647TarK5IApWnwYPDjj2Zb14kT8Pnn0LOn1RWJBIa774Y334TLLzcH6qilspSTpsHF9A9/5x0zTXfrrbBzp9UVifi/WbNMUDdoAAsXKqjFqxTWwWLAABg3zpx/ffPNapgiUhHff2+mvUNDTVBHRlpdkQQ4TYMHk9xcMwX+9ddmQcwHH+jADwkYLpebJYn7mROfTEp6JlHhVRjSqSmxMZE4nR78c37gAFxyCaSkwKuvwujRnnttCVrauiWFHT4MF18Me/aYo/seecTqikQqzOVyM3reDyxPSsXlcuMGHIDT6aBnq/pMG9TeM4GdnQ1du5o+BrffDu++qw+84hG6Zi2F1a0LixaZ/aCPPQZLl1pdkUiFLUncz/KkVPL+CGoAN5DncrM8KZUlifsr/iZut2nhGx8Pl11mtmkpqMVHFNbBqF07eO+9PxecJSVZXZFIhcyJT8blKnpU4nK5mbN2d8Xf5JVXzEg6MhL+/W9zUIeIjyisg1XfvhAXB8eOQWws/Pab1RWJlFtKeibFTSC6gX1pJyr2Bl99BWPHQliYmZlq2LBirydSRgrrYDZ+vGnosHOn+XrypNUViZRLVHgVipuQdgCNIqqW/8W3boX+/U0HwFmzzOIyER9TWAczp9NM67VrB6tWwciROlJT/NKQTk2LXUDmdDoY0jG6fC986BDccANkZJg1HupQJhbRavAgU9T2lhHnnsW1d/bGsX+/aUn66KNWlylSJl5ZDZ6VBddcY06t698f5s83H3BFvEBbt6TAmf5BG1E1jUeeuxvH8eOwYIFpoiLiRwo+iK7dzb60EzSKqMqQjtHl22edv/hy/nyz8nvlSqhSxTuFi6CwllMs2riPsQsTySti1WyI08H79Q/R6aFhUKmS+cepUycLqhSxgaeeMudTR0ebs6nr17e6Iglw2mctBUra3vLCWc1g6lTT+OGmm+CXX3xcoYgNzJplgrpmTfjsMwW12ILCOoiUanvL/feb9omHDsG118LBg74sUcRan31mTtKqVAk++QRatbK6IhFAYR1USr29ZepUsw/7l1/MSthjx3xVooh1vvvOrNXIyzO7JK65xuqKRAoorINIqbe3hITA++/DlVfC+vXagy2Bb8cO88H0xAmYMsUsLhOxEYV1EImNiaRnq/qEOB0FI2wHZnFZz1b1iY055Zi/ypVNp6ZWreCLL2D4cO3BlsB04IC55HP4sLkMNHas1RWJnEarwYNMmbe3pKSYVeEpKeYfsSlTdHiBBI60NLjqKti82cwgzZ9vZpZEfExbt6TitmyBK66AI0dg4kR44gmrKxKpuOPHoXt3c4pW9+7mBLqwMKurkiClsBbP+P57uPpqs9hs2jQYNcrqikTKLzvbHGDz5ZfQsaM5qKN6daurkiCmfdbiGZdc8ufIY/Roc8SmiD/Ky4MhQ0xQt25ttmspqMXmFNZSel26wMKF5presGFmH6qIP8nLg6FDzZ/jc881gV27ttVViZRIYS1l06uXGVW7XHDLLbBkidUViZSOy2UansyZA40bw4oVOpda/IbCWsru1ltNS8bcXLOC9vPPra5I5MzcbrPOYtYsE9D/+Q+cc47VVYmUmsfDOjs7mxEjRnDOOedQo0YNWrRowTvvvOPptxGrDR0Kb75pmqX06WOmE0XsyO2GBx+EmTNNn+///AfOP9/qqkTKxONhnZubS8OGDVmxYgVHjx7l3XffZezYsXypf8wDz4gR8Nprfx78sWKF1RWJFJYf1K+8AnXrwtdfQ4sWVlclUmY+2brVp08fWrduzYQJE0ouSFu3/M+0aabzU1iYWXR2/fUVermCxi3xyaSkZxIVXoUhnZqW71xiCV4ul5n6njnTBPWKFRATY3VVIkWyfOtWVlYW3333HW3atCny8bi4OBwOR8FN/NDo0TBjhhlh9+4NixeX+6VcLjej5/3A2IWJ/LAnndSj2fywJ52xCxMZPe+HYo/4FCkkfzFZ/tT3qlUKavFrXg1rt9vN8OHDadasGX369CnyOXFxcbjd7oKb+BeXy82ijfvoSwyTej+IKzcXV79+uOYvKNfrLUncz/KkVPJc7oLjPN1AnsvN8qRUliTu91jtEqDy8szWwrffNovJVq3SUZfi90K99cJut5t7772Xbdu2sWLFCpxOLTwPNPmj4OVJqbhcbjZccA2/Xe9gyucv47j1VlxZWTjv+FuZXnNOfHKxo2eXy82ctbvp3a6RJ8qXQJSdbRqeLFwIUVFmMVmzZlZXJVJhXklQt9vNfffdx7p16/jyyy+pVauWN95GLFbUKPiT1lczptc4XIBz6B1mYU8ZpKRnUtz8ihvYl3ai/AVLYDt+3LQQzW948s03CmoJGF4J61GjRrFmzRq++uorIiIivPEWYgPFjYI/bXkld/UdT3als+CBB2D8+FIfrxkVXoXiVi44gEYRVctdrwSwI0fMYRz5LURXrzaBLRIgPB7Wu3fv5rXXXmPbtm1ER0dTvXp1qlevzj333OPptxKLnWkU/J/zLuH+O56HWrXMSV0jR5priSUY0qlpsSu+nU4HQzpGV6BiCUj795tjLuPjzXGu//2vOpNJwPH4Nevo6GgtFAsSUeFVOHg0u8jAdgCH210Ko/4L114Lb7wBhw+bVo9VqhT7mrExkXy15UDBdXD3H6/ldDro2ao+sTGRXvq/Eb+UlGS2Cu7ZAz16mK2D1apZXZWIx2nVl5RbqUbBbdrAmjVw3nnw8cfQrZsJ7WI4nQ6mDWrPi/1jaB8dQYOaYbSPjuDF/jFMG9Re+6zlT6tWQefOJqhvu82cCqeglgCl86yl3P66Gvyvo+BC4XrokFn8s3atafW4bJlaPkr5zZ8Pf/sb5OTAY4/BpEmgPg3ix0rKPoW1VEhBt7G1u9mXdoJGEVUZ0jG66G5jmZlmBPTvf5uOUkuWmGuMfkYd1izkdsNzz8Hjj4PTadrd3n231VWJVJjCWuwlLw/GjYOXXzbtSd9+GwYPtrqqUivTbIJ4VlaW6Uf//vtQtSosWAA33mh1VSIeobAWe5o+3WzrysuDv/8dJk+GkBCrqyrRoo37GLswkbwitqyFOB282D9GTVu84cABuPlmcxmlcWMzK9O2rdffVrMo4isKa7Gvr7+G/v0hLQ1uuAHmzoWaNa2u6oz6vraGH/akF7sCvn10BB+PvNzXZQW2jRvNqW5795rLJv/+t+n37WWaRRFfsvwgD5FiXXMNrFtnjiz87DO47DLYutXqqs5IHdZ8bPZsuPxyE9S3327ah/ogqEF96sVeFNZirWbNzNTm9dfDTz/BpZfChx9aXVWx1GHNR7KzTSOdO+6AkyfhxRfh3XehcmWflVCaPvUivqKwFuvVqmX2yE6YYPo733ILPPig+UfaZtRhzQf27jUdyV5/HerVM5dLHnrI51uzNIsidqKwFntwOk0P8WXLoHZts1q8a1fT8MJGYmMi6dmqPiFOR8EI24FZXKYOax6wdKlZOLZunbk+/cMPJrgtoFkUsROFtdjLtdeaf6AvucR0PouJMZ3PbEId1rwkO9vsDoiNNYdy3H+/6VDWyLqV9ZpFETvRanCxp5wceOIJeOEF89933w0vvWT210pg+flnGDjQfEirXRv+9S8T2hbTanDxJW3dEv/2xRdmFfDBg9CypTkI5OKLra5KPMHtNtelx42DEyfgyivhgw8gKsrqygqUqUOfSAUorMX/paaaPtBffGEapzz5pBl1V6pkdWVSXikpcOed5vzp0FB46inTQtQPGuOIeIPCWgLDX0dh7dqZPbgXXWR1ZVIWbrcZPY8eDenpcOGF8N57mi2RoKemKBIYHA6z73bTJrjiCtPV6uKL4emnTc9osb/kZLOffsgQyMiAsWNhwwYFtUgpaGQt/icvD155xUyHZ2bCBRfAG29YtsVHSpCbC6++arbmnTgBzZvDW2+Za9QiAmhkLYEoJMQ0yUhKMlu9tm2DLl3MNdBDh6yuTk61di107GhG0SdPmsBOTFRQi5SRRtbi39xumD/f7NE9eBDCwyEuDu69VwvQrHTgADz6qFlXAKbByVtvQatW1tYlYlMaWUtgczhg0CDTV3zUKPj9dxPcMTFmpbH4Vna22RvfvLkJ6nr1zL7p1asV1CIVoJG1BJYff4QxY8zpTGCmySdPhvbtra0r0OXlmSNOx4+H3bvNdqz77zdbsmrVsro6EdvT1i0JPm43LFoEDz8Mv/xi7rvlFpg4Ec4/39LSAo7bbfq5P/aYWakP5uzpf/zDNLERkVLRNLgEH4cDbr7ZnI09cyY0aAALFphzs++807S3lIpxu80Z5B07wg03mKC+/HIz3b1okYJaxMM0spbAd/w4TJsGzz9vGnE4nWak/fjj0Lq11dX5F5cLliyBZ581vbwB2rQxx5vGxvr8GEuRQKFpcJF8GRnw2mvmQJDDh819N9xgFqRdc01ABU1BT+v4ZFLSM4kKr8KQTk3L39P6+HGzYOyVV2D7dnPfxReba9S9epkPQCJSbgprkb86ftxsI5oyBfbvN/e1amUWRA0e7Pcne3n0tKjkZNPm9c03IS3N3HfFFWZb1nXXBdQHHBErKaxFinPyJHz0kRktrltn7qtZ02wFu/NO6NDBL8No0cZ9jF2YSJ7r9L9HIU4HL/aPoXe7M5wTnZMDixebDzQrVpjr06Gh5tLBgw+qPaiIFyisRUpj3TrTEvPjj81eYTCHhNx+OwwYAE2aWFtfGfR9bQ0/7EmnqL9FDqB9dAQfj7y88AMul+k2Nn++ueV3gouKgqFDzXnijc4Q8CJSIQprkbJISzP7hWfNMoeF5OvUyYR2377QuLF19ZXCZZNXkHo0u9jHG9QMY+3j3cze6O+/h08+Mavl9+wxTwgJMdehhw+Hnj0hJMTz18BFpBCFtUh5JSSYEFuwAHbt+vP+1q3N6VHXX2+2K9msremZRta1so4x5PjPjMv52eyPPrWX+hVXmEsAffuazmN/8Og1cBEpksJapKLcbnOU44IF8OmnprVpvmrVTGBfcYU5nOLSS6FKFetqpfA167rH07h431Y67tnMZXt/pMXBZJz5MR4aamq+8Ubo399MeZfwen9VqmvgIlIihbWIp+3caUaln38O33xjVpfnCw01DUHatYO2bU2P8ubNITLSu9ubsrNNXdu24UpI4MelKzn75yQa/v5boaf9VrchtW+4FseNN0D37qVqBVqua+AiUiYKaxFvys010+X//S/8739modqvv57+vCpV4LzzzC0y0nRVa9AA6teHGjWgenVzq1rVrEB3u/+8HT9uDig5etR8TU01W87yb7/8YrZYuVyF3tLtdLKnQVM2NWhGcusOXDDgRrpdd1mZp6xLfQ1cRMpNYS3ia6mpZnHaxo2weTPs2GFanKane+89o6LMCP6CC+DCC832qpgYj+wZ18haxPtKyr5QH9YiEhzq1zerqHv2LHz/b7+ZhWoHDvx5S02FY8fM7fhxc3O7zeg6/1atmhl959/q1TOj88hIaNgQoqPNc7xkSKemJKQUfc3a6XQwpGO0195bRAyvhPXJkyd58MEH+eCDD3A4HNx2221MnTqV0FB9NpAgVqeOufmZ2JhIvtpyoNjV4LExkVaXKBLwvDIN/vTTT7N48WKWLVsGwHXXXUefPn146qmnSi5I0+AitlOwz3rtbvalnaBRRFWGdIzWPmsRD7HkmnXjxo2ZOnUq/fr1A2DhwoWMGzeO3bt3l/izCmsREQk2Pj/POi0tjZSUFNq2bVtwX9u2bdmzZw8ZGRmnPT8uLg6Hw1FwExERkcI8HtbHjh0DIDw8vOC+/O9///33054fFxeH2+0uuImIiEhhHl/xVb16dQAyMjKoW7duwfcANWrU8PTbiZTIH/pa+0ONImIdj4d1REQEUVFRJCQkcN555wGQkJBA48aNqVWKbkkinlRUX+uDR7NJSEnkqy0HbNHX2h9qFBFreaX/4dChQ5k0aRIHDhzgwIEDTJ48meHDh3vjrUTOaEnifpYnpZL3RwgCuIE8l5vlSaksSdxvZXmAf9QoItbySliPHz+eTp060bJlS1q2bEnnzp15/PHHvfFWImc0Jz4ZVxHNPMCMaOesLXmHgrf5Q40iYi2vdCmpVKkSM2bMYMaMGd54eZFSS0nPLLJNJpjR6760E74sp0j+UKOIWMuLxwCJWC8qvArFXe11AI0iKt47u6L8oUYRsZbCWgLakE5Ni12cZZe+1v5Qo4hYS2EtAS02JpKereoT4nQUjF4dQIiN+lr7Q40iYi0dkSkBzx/6WvtDjSLiPTrPWkRExOZ83htcREREPEthLSIiYnMKaxEREZtTWIuIiNicwlpERMTmFNYiIiI2p7AWERGxOYW1iIiIzSmsRUREbE5hLSIiYnMKaxEREZtTWIuIiNicwlpERMTmFNYiIiI2p7AWERGxOYW1iIiIzSmsRUREbE5hLSIiYnMKaxEREZtTWIuIiNicwlpERMTmFNYiIiI2p7AWERGxOYW1iIiIzSmsRUREbE5hLSIiYnMKaxEREZtTWIuIiNicwlpERMTmPBrWn332GVdeeSURERHUq1ePfv36kZKS4sm3EBERCToeDeuMjAweeeQR9u7dy65du6hZsyYDBgzw5FuIiIgEHYfb7XZ768U3bdpEu3btyM7OJjQ0tHQFORx4sSQRERHbKSn7vHrN+ptvvqFly5ZnDOq4uDgcDkfBTURERAor9cj6xhtv5LPPPiv28V27dtG0adOC/964cSNdu3Zl4cKFdO/evfQFaWQtIiJBpqTsK3VYHz16lJycnGIfr127Nk6nGahv3ryZ7t2788ILLzB48GCPFiwiIhJoPBbWpbV582a6devGc889x9ChQ8v88wprEREJNj69Zp2UlES3bt2YOHFiuYJaRERETufRkfXQoUOZPXs2VatWLXT/li1baNKkSekK0shaRESCjM+nwStKYS0iIsHG0q1bIiIiUnEKaxEREZtTWIuIiNicwlpERMTmFNYiIiI2p7AWERGxOYW1iIiIzSmsRUREbE5hLSIiYnMKaxEREZtTWIuIiNicwlpERMTmFNYiIiI2p7AWERGxOYW1iIiIzYVaXUBRHA6H1SWIiIjYhu3C+kyHb3tTSQd/i/fp98Ba+vW3nn4PrGfX3wNNg4uIiNicwlpERMTmFNZ/ePrpp60uIejp98Ba+vW3nn4PrGfX3wOH246T8yIiIlJAI2sRERGbU1iLiIjYnMJaRETE5hTWIiIiNqewFhERsTmF9Sk+++wzrrzySiIiIqhXrx79+vUjJSXF6rKCyq+//kpsbCyRkZE4HA4SEhKsLingnTx5klGjRhEREUHt2rUZPXo0ubm5VpcVNKZPn06HDh0ICwujd+/eVpcTlLKzsxkxYgTnnHMONWrUoEWLFrzzzjtWl1WIwvoUGRkZPPLII+zdu5ddu3ZRs2ZNBgwYYHVZQcXpdNKzZ08WLVpkdSlBY+LEiaxevZotW7aQlJTE//73PyZPnmx1WUEjMjKSJ598khEjRlhdStDKzc2lYcOGrFixgqNHj/Luu+8yduxYvvzyS6tLK6B91mewadMm2rVrR3Z2NqGhtmujHvAcDgcbN26kbdu2VpcS0Bo3bszUqVPp168fAAsXLmTcuHHs3r3b4sqCS1xcHAkJCfqgahN9+vShdevWTJgwwepSAI2sz+ibb76hZcuWCmoJWGlpaaSkpBT6QNS2bVv27NlDRkaGdYWJWCgrK4vvvvuONm3aWF1KgaAJ6xtvvBGHw1HsLTk5udDzN27cyPjx45k6dao1BQegsv4eiPcdO3YMgPDw8IL78r///fffLahIxFput5vhw4fTrFkz+vTpY3U5BYJmyDh37lxycnKKfbx27doF32/evJnrrruO6dOn0717d1+UFxTK8nsgvlG9enXArNeoW7duwfcANWrUsKwuESu43W7uvfdetm3bxooVK3A67TOeDZqwrlmzZqmet3nzZrp168Zzzz3H4MGDvVxVcCnt74H4TkREBFFRUSQkJHDeeecBkJCQQOPGjalVq5bF1Yn4jtvt5r777mPdunV8/fXXtvvzb5+PDTaQlJREt27dmDhxIkOHDrW6nKCVlZVFVlYWADk5OWRlZeFyuSyuKnANHTqUSZMmceDAAQ4cOMDkyZMZPny41WUFjdzcXLKyssjNzcXlcpGVlXXGGSjxjlGjRrFmzRq++uorIiIirC7nNFoNfoqhQ4cye/ZsqlatWuj+LVu20KRJE4uqCj4Oh+O0+1auXEmXLl18X0wQOHnyJA888ABz584FYPDgwUydOlULK30kLi6OZ555ptB9V111FatWrbKmoCC0e/dumjZtSlhYWKE/94MHD+b111+3sLI/KaxFRERsTtPgIiIiNqewFhERsTmFtYiIiM0prEVERGxOYS0iImJzCmsRERGbU1iLiIjYnMJaRETE5hTWIiIiNqewFhERsbn/B8xYJPD2VqXGAAAAAElFTkSuQmCC\n"
                },
                "metadata": {}
              }
            ]
          }
        },
        "02ef0287b4f04c76869a3fe5a213132a": {
          "model_module": "@jupyter-widgets/base",
          "model_name": "LayoutModel",
          "model_module_version": "1.2.0",
          "state": {
            "_model_module": "@jupyter-widgets/base",
            "_model_module_version": "1.2.0",
            "_model_name": "LayoutModel",
            "_view_count": null,
            "_view_module": "@jupyter-widgets/base",
            "_view_module_version": "1.2.0",
            "_view_name": "LayoutView",
            "align_content": null,
            "align_items": null,
            "align_self": null,
            "border": null,
            "bottom": null,
            "display": null,
            "flex": null,
            "flex_flow": null,
            "grid_area": null,
            "grid_auto_columns": null,
            "grid_auto_flow": null,
            "grid_auto_rows": null,
            "grid_column": null,
            "grid_gap": null,
            "grid_row": null,
            "grid_template_areas": null,
            "grid_template_columns": null,
            "grid_template_rows": null,
            "height": null,
            "justify_content": null,
            "justify_items": null,
            "left": null,
            "margin": null,
            "max_height": null,
            "max_width": null,
            "min_height": null,
            "min_width": null,
            "object_fit": null,
            "object_position": null,
            "order": null,
            "overflow": null,
            "overflow_x": null,
            "overflow_y": null,
            "padding": null,
            "right": null,
            "top": null,
            "visibility": null,
            "width": null
          }
        },
        "7037ced1fcb247a385e87e51d124a779": {
          "model_module": "@jupyter-widgets/base",
          "model_name": "LayoutModel",
          "model_module_version": "1.2.0",
          "state": {
            "_model_module": "@jupyter-widgets/base",
            "_model_module_version": "1.2.0",
            "_model_name": "LayoutModel",
            "_view_count": null,
            "_view_module": "@jupyter-widgets/base",
            "_view_module_version": "1.2.0",
            "_view_name": "LayoutView",
            "align_content": null,
            "align_items": null,
            "align_self": null,
            "border": null,
            "bottom": null,
            "display": null,
            "flex": null,
            "flex_flow": null,
            "grid_area": null,
            "grid_auto_columns": null,
            "grid_auto_flow": null,
            "grid_auto_rows": null,
            "grid_column": null,
            "grid_gap": null,
            "grid_row": null,
            "grid_template_areas": null,
            "grid_template_columns": null,
            "grid_template_rows": null,
            "height": null,
            "justify_content": null,
            "justify_items": null,
            "left": null,
            "margin": null,
            "max_height": null,
            "max_width": null,
            "min_height": null,
            "min_width": null,
            "object_fit": null,
            "object_position": null,
            "order": null,
            "overflow": null,
            "overflow_x": null,
            "overflow_y": null,
            "padding": null,
            "right": null,
            "top": null,
            "visibility": null,
            "width": null
          }
        },
        "ed0d5b9ac95e429e80b4d2a2c432ae4f": {
          "model_module": "@jupyter-widgets/controls",
          "model_name": "SliderStyleModel",
          "model_module_version": "1.5.0",
          "state": {
            "_model_module": "@jupyter-widgets/controls",
            "_model_module_version": "1.5.0",
            "_model_name": "SliderStyleModel",
            "_view_count": null,
            "_view_module": "@jupyter-widgets/base",
            "_view_module_version": "1.2.0",
            "_view_name": "StyleView",
            "description_width": "",
            "handle_color": null
          }
        },
        "5de741425b324be09b0aec1dd4d1f320": {
          "model_module": "@jupyter-widgets/base",
          "model_name": "LayoutModel",
          "model_module_version": "1.2.0",
          "state": {
            "_model_module": "@jupyter-widgets/base",
            "_model_module_version": "1.2.0",
            "_model_name": "LayoutModel",
            "_view_count": null,
            "_view_module": "@jupyter-widgets/base",
            "_view_module_version": "1.2.0",
            "_view_name": "LayoutView",
            "align_content": null,
            "align_items": null,
            "align_self": null,
            "border": null,
            "bottom": null,
            "display": null,
            "flex": null,
            "flex_flow": null,
            "grid_area": null,
            "grid_auto_columns": null,
            "grid_auto_flow": null,
            "grid_auto_rows": null,
            "grid_column": null,
            "grid_gap": null,
            "grid_row": null,
            "grid_template_areas": null,
            "grid_template_columns": null,
            "grid_template_rows": null,
            "height": null,
            "justify_content": null,
            "justify_items": null,
            "left": null,
            "margin": null,
            "max_height": null,
            "max_width": null,
            "min_height": null,
            "min_width": null,
            "object_fit": null,
            "object_position": null,
            "order": null,
            "overflow": null,
            "overflow_x": null,
            "overflow_y": null,
            "padding": null,
            "right": null,
            "top": null,
            "visibility": null,
            "width": null
          }
        },
        "67ff5a1374b349c9b73aa6ea9924771b": {
          "model_module": "@jupyter-widgets/controls",
          "model_name": "SliderStyleModel",
          "model_module_version": "1.5.0",
          "state": {
            "_model_module": "@jupyter-widgets/controls",
            "_model_module_version": "1.5.0",
            "_model_name": "SliderStyleModel",
            "_view_count": null,
            "_view_module": "@jupyter-widgets/base",
            "_view_module_version": "1.2.0",
            "_view_name": "StyleView",
            "description_width": "",
            "handle_color": null
          }
        },
        "7557438ea1eb4544a7f7ddbf0de27e96": {
          "model_module": "@jupyter-widgets/base",
          "model_name": "LayoutModel",
          "model_module_version": "1.2.0",
          "state": {
            "_model_module": "@jupyter-widgets/base",
            "_model_module_version": "1.2.0",
            "_model_name": "LayoutModel",
            "_view_count": null,
            "_view_module": "@jupyter-widgets/base",
            "_view_module_version": "1.2.0",
            "_view_name": "LayoutView",
            "align_content": null,
            "align_items": null,
            "align_self": null,
            "border": null,
            "bottom": null,
            "display": null,
            "flex": null,
            "flex_flow": null,
            "grid_area": null,
            "grid_auto_columns": null,
            "grid_auto_flow": null,
            "grid_auto_rows": null,
            "grid_column": null,
            "grid_gap": null,
            "grid_row": null,
            "grid_template_areas": null,
            "grid_template_columns": null,
            "grid_template_rows": null,
            "height": null,
            "justify_content": null,
            "justify_items": null,
            "left": null,
            "margin": null,
            "max_height": null,
            "max_width": null,
            "min_height": null,
            "min_width": null,
            "object_fit": null,
            "object_position": null,
            "order": null,
            "overflow": null,
            "overflow_x": null,
            "overflow_y": null,
            "padding": null,
            "right": null,
            "top": null,
            "visibility": null,
            "width": null
          }
        },
        "5398bc06b98a409c9a55042808108a1e": {
          "model_module": "@jupyter-widgets/controls",
          "model_name": "SliderStyleModel",
          "model_module_version": "1.5.0",
          "state": {
            "_model_module": "@jupyter-widgets/controls",
            "_model_module_version": "1.5.0",
            "_model_name": "SliderStyleModel",
            "_view_count": null,
            "_view_module": "@jupyter-widgets/base",
            "_view_module_version": "1.2.0",
            "_view_name": "StyleView",
            "description_width": "",
            "handle_color": null
          }
        },
        "b4b5df19becc4ab3a3afe86962c2f2fb": {
          "model_module": "@jupyter-widgets/base",
          "model_name": "LayoutModel",
          "model_module_version": "1.2.0",
          "state": {
            "_model_module": "@jupyter-widgets/base",
            "_model_module_version": "1.2.0",
            "_model_name": "LayoutModel",
            "_view_count": null,
            "_view_module": "@jupyter-widgets/base",
            "_view_module_version": "1.2.0",
            "_view_name": "LayoutView",
            "align_content": null,
            "align_items": null,
            "align_self": null,
            "border": null,
            "bottom": null,
            "display": null,
            "flex": null,
            "flex_flow": null,
            "grid_area": null,
            "grid_auto_columns": null,
            "grid_auto_flow": null,
            "grid_auto_rows": null,
            "grid_column": null,
            "grid_gap": null,
            "grid_row": null,
            "grid_template_areas": null,
            "grid_template_columns": null,
            "grid_template_rows": null,
            "height": null,
            "justify_content": null,
            "justify_items": null,
            "left": null,
            "margin": null,
            "max_height": null,
            "max_width": null,
            "min_height": null,
            "min_width": null,
            "object_fit": null,
            "object_position": null,
            "order": null,
            "overflow": null,
            "overflow_x": null,
            "overflow_y": null,
            "padding": null,
            "right": null,
            "top": null,
            "visibility": null,
            "width": null
          }
        },
        "6960759c87f14238a0e78d95655ffabb": {
          "model_module": "@jupyter-widgets/controls",
          "model_name": "VBoxModel",
          "model_module_version": "1.5.0",
          "state": {
            "_dom_classes": [
              "widget-interact"
            ],
            "_model_module": "@jupyter-widgets/controls",
            "_model_module_version": "1.5.0",
            "_model_name": "VBoxModel",
            "_view_count": null,
            "_view_module": "@jupyter-widgets/controls",
            "_view_module_version": "1.5.0",
            "_view_name": "VBoxView",
            "box_style": "",
            "children": [
              "IPY_MODEL_248d53dcf14542efb7dda16a5ef2b952",
              "IPY_MODEL_a83593b38c814841a20097b6bbc6d8de",
              "IPY_MODEL_37c939e223394b059673c5f7a40784ab"
            ],
            "layout": "IPY_MODEL_8b7fe4ee47774209979517da48b6f1be"
          }
        },
        "248d53dcf14542efb7dda16a5ef2b952": {
          "model_module": "@jupyter-widgets/controls",
          "model_name": "FloatSliderModel",
          "model_module_version": "1.5.0",
          "state": {
            "_dom_classes": [],
            "_model_module": "@jupyter-widgets/controls",
            "_model_module_version": "1.5.0",
            "_model_name": "FloatSliderModel",
            "_view_count": null,
            "_view_module": "@jupyter-widgets/controls",
            "_view_module_version": "1.5.0",
            "_view_name": "FloatSliderView",
            "continuous_update": true,
            "description": "m",
            "description_tooltip": null,
            "disabled": false,
            "layout": "IPY_MODEL_21fd37b2ef11488a915877641b8bdd5a",
            "max": 4.5,
            "min": -1.5,
            "orientation": "horizontal",
            "readout": true,
            "readout_format": ".2f",
            "step": 0.1,
            "style": "IPY_MODEL_a39844a8660c4c848cb21cee7e0616e6",
            "value": 2.7
          }
        },
        "a83593b38c814841a20097b6bbc6d8de": {
          "model_module": "@jupyter-widgets/controls",
          "model_name": "FloatSliderModel",
          "model_module_version": "1.5.0",
          "state": {
            "_dom_classes": [],
            "_model_module": "@jupyter-widgets/controls",
            "_model_module_version": "1.5.0",
            "_model_name": "FloatSliderModel",
            "_view_count": null,
            "_view_module": "@jupyter-widgets/controls",
            "_view_module_version": "1.5.0",
            "_view_name": "FloatSliderView",
            "continuous_update": true,
            "description": "b",
            "description_tooltip": null,
            "disabled": false,
            "layout": "IPY_MODEL_7f968d0eadb54e4dbd23c89be9efe508",
            "max": 4.5,
            "min": -1.5,
            "orientation": "horizontal",
            "readout": true,
            "readout_format": ".2f",
            "step": 0.1,
            "style": "IPY_MODEL_1f53a47663ce459489a21a8ccdb9f42e",
            "value": -0.7
          }
        },
        "37c939e223394b059673c5f7a40784ab": {
          "model_module": "@jupyter-widgets/output",
          "model_name": "OutputModel",
          "model_module_version": "1.0.0",
          "state": {
            "_dom_classes": [],
            "_model_module": "@jupyter-widgets/output",
            "_model_module_version": "1.0.0",
            "_model_name": "OutputModel",
            "_view_count": null,
            "_view_module": "@jupyter-widgets/output",
            "_view_module_version": "1.0.0",
            "_view_name": "OutputView",
            "layout": "IPY_MODEL_8f23680621fd47d598b98d06b3608a31",
            "msg_id": "",
            "outputs": [
              {
                "output_type": "display_data",
                "data": {
                  "text/plain": "<Figure size 576x432 with 1 Axes>",
                  "image/png": "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\n"
                },
                "metadata": {}
              }
            ]
          }
        },
        "8b7fe4ee47774209979517da48b6f1be": {
          "model_module": "@jupyter-widgets/base",
          "model_name": "LayoutModel",
          "model_module_version": "1.2.0",
          "state": {
            "_model_module": "@jupyter-widgets/base",
            "_model_module_version": "1.2.0",
            "_model_name": "LayoutModel",
            "_view_count": null,
            "_view_module": "@jupyter-widgets/base",
            "_view_module_version": "1.2.0",
            "_view_name": "LayoutView",
            "align_content": null,
            "align_items": null,
            "align_self": null,
            "border": null,
            "bottom": null,
            "display": null,
            "flex": null,
            "flex_flow": null,
            "grid_area": null,
            "grid_auto_columns": null,
            "grid_auto_flow": null,
            "grid_auto_rows": null,
            "grid_column": null,
            "grid_gap": null,
            "grid_row": null,
            "grid_template_areas": null,
            "grid_template_columns": null,
            "grid_template_rows": null,
            "height": null,
            "justify_content": null,
            "justify_items": null,
            "left": null,
            "margin": null,
            "max_height": null,
            "max_width": null,
            "min_height": null,
            "min_width": null,
            "object_fit": null,
            "object_position": null,
            "order": null,
            "overflow": null,
            "overflow_x": null,
            "overflow_y": null,
            "padding": null,
            "right": null,
            "top": null,
            "visibility": null,
            "width": null
          }
        },
        "21fd37b2ef11488a915877641b8bdd5a": {
          "model_module": "@jupyter-widgets/base",
          "model_name": "LayoutModel",
          "model_module_version": "1.2.0",
          "state": {
            "_model_module": "@jupyter-widgets/base",
            "_model_module_version": "1.2.0",
            "_model_name": "LayoutModel",
            "_view_count": null,
            "_view_module": "@jupyter-widgets/base",
            "_view_module_version": "1.2.0",
            "_view_name": "LayoutView",
            "align_content": null,
            "align_items": null,
            "align_self": null,
            "border": null,
            "bottom": null,
            "display": null,
            "flex": null,
            "flex_flow": null,
            "grid_area": null,
            "grid_auto_columns": null,
            "grid_auto_flow": null,
            "grid_auto_rows": null,
            "grid_column": null,
            "grid_gap": null,
            "grid_row": null,
            "grid_template_areas": null,
            "grid_template_columns": null,
            "grid_template_rows": null,
            "height": null,
            "justify_content": null,
            "justify_items": null,
            "left": null,
            "margin": null,
            "max_height": null,
            "max_width": null,
            "min_height": null,
            "min_width": null,
            "object_fit": null,
            "object_position": null,
            "order": null,
            "overflow": null,
            "overflow_x": null,
            "overflow_y": null,
            "padding": null,
            "right": null,
            "top": null,
            "visibility": null,
            "width": null
          }
        },
        "a39844a8660c4c848cb21cee7e0616e6": {
          "model_module": "@jupyter-widgets/controls",
          "model_name": "SliderStyleModel",
          "model_module_version": "1.5.0",
          "state": {
            "_model_module": "@jupyter-widgets/controls",
            "_model_module_version": "1.5.0",
            "_model_name": "SliderStyleModel",
            "_view_count": null,
            "_view_module": "@jupyter-widgets/base",
            "_view_module_version": "1.2.0",
            "_view_name": "StyleView",
            "description_width": "",
            "handle_color": null
          }
        },
        "7f968d0eadb54e4dbd23c89be9efe508": {
          "model_module": "@jupyter-widgets/base",
          "model_name": "LayoutModel",
          "model_module_version": "1.2.0",
          "state": {
            "_model_module": "@jupyter-widgets/base",
            "_model_module_version": "1.2.0",
            "_model_name": "LayoutModel",
            "_view_count": null,
            "_view_module": "@jupyter-widgets/base",
            "_view_module_version": "1.2.0",
            "_view_name": "LayoutView",
            "align_content": null,
            "align_items": null,
            "align_self": null,
            "border": null,
            "bottom": null,
            "display": null,
            "flex": null,
            "flex_flow": null,
            "grid_area": null,
            "grid_auto_columns": null,
            "grid_auto_flow": null,
            "grid_auto_rows": null,
            "grid_column": null,
            "grid_gap": null,
            "grid_row": null,
            "grid_template_areas": null,
            "grid_template_columns": null,
            "grid_template_rows": null,
            "height": null,
            "justify_content": null,
            "justify_items": null,
            "left": null,
            "margin": null,
            "max_height": null,
            "max_width": null,
            "min_height": null,
            "min_width": null,
            "object_fit": null,
            "object_position": null,
            "order": null,
            "overflow": null,
            "overflow_x": null,
            "overflow_y": null,
            "padding": null,
            "right": null,
            "top": null,
            "visibility": null,
            "width": null
          }
        },
        "1f53a47663ce459489a21a8ccdb9f42e": {
          "model_module": "@jupyter-widgets/controls",
          "model_name": "SliderStyleModel",
          "model_module_version": "1.5.0",
          "state": {
            "_model_module": "@jupyter-widgets/controls",
            "_model_module_version": "1.5.0",
            "_model_name": "SliderStyleModel",
            "_view_count": null,
            "_view_module": "@jupyter-widgets/base",
            "_view_module_version": "1.2.0",
            "_view_name": "StyleView",
            "description_width": "",
            "handle_color": null
          }
        },
        "8f23680621fd47d598b98d06b3608a31": {
          "model_module": "@jupyter-widgets/base",
          "model_name": "LayoutModel",
          "model_module_version": "1.2.0",
          "state": {
            "_model_module": "@jupyter-widgets/base",
            "_model_module_version": "1.2.0",
            "_model_name": "LayoutModel",
            "_view_count": null,
            "_view_module": "@jupyter-widgets/base",
            "_view_module_version": "1.2.0",
            "_view_name": "LayoutView",
            "align_content": null,
            "align_items": null,
            "align_self": null,
            "border": null,
            "bottom": null,
            "display": null,
            "flex": null,
            "flex_flow": null,
            "grid_area": null,
            "grid_auto_columns": null,
            "grid_auto_flow": null,
            "grid_auto_rows": null,
            "grid_column": null,
            "grid_gap": null,
            "grid_row": null,
            "grid_template_areas": null,
            "grid_template_columns": null,
            "grid_template_rows": null,
            "height": null,
            "justify_content": null,
            "justify_items": null,
            "left": null,
            "margin": null,
            "max_height": null,
            "max_width": null,
            "min_height": null,
            "min_width": null,
            "object_fit": null,
            "object_position": null,
            "order": null,
            "overflow": null,
            "overflow_x": null,
            "overflow_y": null,
            "padding": null,
            "right": null,
            "top": null,
            "visibility": null,
            "width": null
          }
        },
        "81e137474d684a1b90759a0a5521a0bd": {
          "model_module": "@jupyter-widgets/controls",
          "model_name": "VBoxModel",
          "model_module_version": "1.5.0",
          "state": {
            "_dom_classes": [
              "widget-interact"
            ],
            "_model_module": "@jupyter-widgets/controls",
            "_model_module_version": "1.5.0",
            "_model_name": "VBoxModel",
            "_view_count": null,
            "_view_module": "@jupyter-widgets/controls",
            "_view_module_version": "1.5.0",
            "_view_name": "VBoxView",
            "box_style": "",
            "children": [
              "IPY_MODEL_74472b681c3c4155b9e0e4f54fcef967",
              "IPY_MODEL_ff270c4cd20145b49d1c572e72ffffa6",
              "IPY_MODEL_1f05ff2360b747ac90da28517c6188b7",
              "IPY_MODEL_171837b1e09a493fb0054fb024a69dea",
              "IPY_MODEL_ca624a5969e84825a587e5a9d878a21d"
            ],
            "layout": "IPY_MODEL_27511d1a96f149a489c43680a4521336"
          }
        },
        "74472b681c3c4155b9e0e4f54fcef967": {
          "model_module": "@jupyter-widgets/controls",
          "model_name": "FloatSliderModel",
          "model_module_version": "1.5.0",
          "state": {
            "_dom_classes": [],
            "_model_module": "@jupyter-widgets/controls",
            "_model_module_version": "1.5.0",
            "_model_name": "FloatSliderModel",
            "_view_count": null,
            "_view_module": "@jupyter-widgets/controls",
            "_view_module_version": "1.5.0",
            "_view_name": "FloatSliderView",
            "continuous_update": true,
            "description": "m1",
            "description_tooltip": null,
            "disabled": false,
            "layout": "IPY_MODEL_c70497bb055148de9a9fae8a0c04a141",
            "max": 1.5,
            "min": -4.5,
            "orientation": "horizontal",
            "readout": true,
            "readout_format": ".2f",
            "step": 0.1,
            "style": "IPY_MODEL_289f9df3bab8477baf845b046de23780",
            "value": -0.4
          }
        },
        "ff270c4cd20145b49d1c572e72ffffa6": {
          "model_module": "@jupyter-widgets/controls",
          "model_name": "FloatSliderModel",
          "model_module_version": "1.5.0",
          "state": {
            "_dom_classes": [],
            "_model_module": "@jupyter-widgets/controls",
            "_model_module_version": "1.5.0",
            "_model_name": "FloatSliderModel",
            "_view_count": null,
            "_view_module": "@jupyter-widgets/controls",
            "_view_module_version": "1.5.0",
            "_view_name": "FloatSliderView",
            "continuous_update": true,
            "description": "b1",
            "description_tooltip": null,
            "disabled": false,
            "layout": "IPY_MODEL_5d60ac1e9ca34932aa61148cfe126500",
            "max": 1.5,
            "min": -4.5,
            "orientation": "horizontal",
            "readout": true,
            "readout_format": ".2f",
            "step": 0.1,
            "style": "IPY_MODEL_4f359f5d3e894303bfd8800349eb2e65",
            "value": -1.5
          }
        },
        "1f05ff2360b747ac90da28517c6188b7": {
          "model_module": "@jupyter-widgets/controls",
          "model_name": "FloatSliderModel",
          "model_module_version": "1.5.0",
          "state": {
            "_dom_classes": [],
            "_model_module": "@jupyter-widgets/controls",
            "_model_module_version": "1.5.0",
            "_model_name": "FloatSliderModel",
            "_view_count": null,
            "_view_module": "@jupyter-widgets/controls",
            "_view_module_version": "1.5.0",
            "_view_name": "FloatSliderView",
            "continuous_update": true,
            "description": "m2",
            "description_tooltip": null,
            "disabled": false,
            "layout": "IPY_MODEL_15332e93b6a340438aace036ba6194bf",
            "max": 4.5,
            "min": -1.5,
            "orientation": "horizontal",
            "readout": true,
            "readout_format": ".2f",
            "step": 0.1,
            "style": "IPY_MODEL_bb3bc430cc454deba274fcea5a75f2c9",
            "value": 1.5
          }
        },
        "171837b1e09a493fb0054fb024a69dea": {
          "model_module": "@jupyter-widgets/controls",
          "model_name": "FloatSliderModel",
          "model_module_version": "1.5.0",
          "state": {
            "_dom_classes": [],
            "_model_module": "@jupyter-widgets/controls",
            "_model_module_version": "1.5.0",
            "_model_name": "FloatSliderModel",
            "_view_count": null,
            "_view_module": "@jupyter-widgets/controls",
            "_view_module_version": "1.5.0",
            "_view_name": "FloatSliderView",
            "continuous_update": true,
            "description": "b2",
            "description_tooltip": null,
            "disabled": false,
            "layout": "IPY_MODEL_c9c2850081c849b195e774ccd7f5eb52",
            "max": 4.5,
            "min": -1.5,
            "orientation": "horizontal",
            "readout": true,
            "readout_format": ".2f",
            "step": 0.1,
            "style": "IPY_MODEL_53c159a4b29940f4b24ea5a259776f07",
            "value": 1.5
          }
        },
        "ca624a5969e84825a587e5a9d878a21d": {
          "model_module": "@jupyter-widgets/output",
          "model_name": "OutputModel",
          "model_module_version": "1.0.0",
          "state": {
            "_dom_classes": [],
            "_model_module": "@jupyter-widgets/output",
            "_model_module_version": "1.0.0",
            "_model_name": "OutputModel",
            "_view_count": null,
            "_view_module": "@jupyter-widgets/output",
            "_view_module_version": "1.0.0",
            "_view_name": "OutputView",
            "layout": "IPY_MODEL_b005bec1f3064cf6a55bbfe7287f99f9",
            "msg_id": "5b3d1851-45da-4b60-b3be-1815f15f32cf",
            "outputs": [
              {
                "output_type": "display_data",
                "data": {
                  "text/plain": "<Figure size 576x432 with 1 Axes>",
                  "image/png": "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\n"
                },
                "metadata": {}
              }
            ]
          }
        },
        "27511d1a96f149a489c43680a4521336": {
          "model_module": "@jupyter-widgets/base",
          "model_name": "LayoutModel",
          "model_module_version": "1.2.0",
          "state": {
            "_model_module": "@jupyter-widgets/base",
            "_model_module_version": "1.2.0",
            "_model_name": "LayoutModel",
            "_view_count": null,
            "_view_module": "@jupyter-widgets/base",
            "_view_module_version": "1.2.0",
            "_view_name": "LayoutView",
            "align_content": null,
            "align_items": null,
            "align_self": null,
            "border": null,
            "bottom": null,
            "display": null,
            "flex": null,
            "flex_flow": null,
            "grid_area": null,
            "grid_auto_columns": null,
            "grid_auto_flow": null,
            "grid_auto_rows": null,
            "grid_column": null,
            "grid_gap": null,
            "grid_row": null,
            "grid_template_areas": null,
            "grid_template_columns": null,
            "grid_template_rows": null,
            "height": null,
            "justify_content": null,
            "justify_items": null,
            "left": null,
            "margin": null,
            "max_height": null,
            "max_width": null,
            "min_height": null,
            "min_width": null,
            "object_fit": null,
            "object_position": null,
            "order": null,
            "overflow": null,
            "overflow_x": null,
            "overflow_y": null,
            "padding": null,
            "right": null,
            "top": null,
            "visibility": null,
            "width": null
          }
        },
        "c70497bb055148de9a9fae8a0c04a141": {
          "model_module": "@jupyter-widgets/base",
          "model_name": "LayoutModel",
          "model_module_version": "1.2.0",
          "state": {
            "_model_module": "@jupyter-widgets/base",
            "_model_module_version": "1.2.0",
            "_model_name": "LayoutModel",
            "_view_count": null,
            "_view_module": "@jupyter-widgets/base",
            "_view_module_version": "1.2.0",
            "_view_name": "LayoutView",
            "align_content": null,
            "align_items": null,
            "align_self": null,
            "border": null,
            "bottom": null,
            "display": null,
            "flex": null,
            "flex_flow": null,
            "grid_area": null,
            "grid_auto_columns": null,
            "grid_auto_flow": null,
            "grid_auto_rows": null,
            "grid_column": null,
            "grid_gap": null,
            "grid_row": null,
            "grid_template_areas": null,
            "grid_template_columns": null,
            "grid_template_rows": null,
            "height": null,
            "justify_content": null,
            "justify_items": null,
            "left": null,
            "margin": null,
            "max_height": null,
            "max_width": null,
            "min_height": null,
            "min_width": null,
            "object_fit": null,
            "object_position": null,
            "order": null,
            "overflow": null,
            "overflow_x": null,
            "overflow_y": null,
            "padding": null,
            "right": null,
            "top": null,
            "visibility": null,
            "width": null
          }
        },
        "289f9df3bab8477baf845b046de23780": {
          "model_module": "@jupyter-widgets/controls",
          "model_name": "SliderStyleModel",
          "model_module_version": "1.5.0",
          "state": {
            "_model_module": "@jupyter-widgets/controls",
            "_model_module_version": "1.5.0",
            "_model_name": "SliderStyleModel",
            "_view_count": null,
            "_view_module": "@jupyter-widgets/base",
            "_view_module_version": "1.2.0",
            "_view_name": "StyleView",
            "description_width": "",
            "handle_color": null
          }
        },
        "5d60ac1e9ca34932aa61148cfe126500": {
          "model_module": "@jupyter-widgets/base",
          "model_name": "LayoutModel",
          "model_module_version": "1.2.0",
          "state": {
            "_model_module": "@jupyter-widgets/base",
            "_model_module_version": "1.2.0",
            "_model_name": "LayoutModel",
            "_view_count": null,
            "_view_module": "@jupyter-widgets/base",
            "_view_module_version": "1.2.0",
            "_view_name": "LayoutView",
            "align_content": null,
            "align_items": null,
            "align_self": null,
            "border": null,
            "bottom": null,
            "display": null,
            "flex": null,
            "flex_flow": null,
            "grid_area": null,
            "grid_auto_columns": null,
            "grid_auto_flow": null,
            "grid_auto_rows": null,
            "grid_column": null,
            "grid_gap": null,
            "grid_row": null,
            "grid_template_areas": null,
            "grid_template_columns": null,
            "grid_template_rows": null,
            "height": null,
            "justify_content": null,
            "justify_items": null,
            "left": null,
            "margin": null,
            "max_height": null,
            "max_width": null,
            "min_height": null,
            "min_width": null,
            "object_fit": null,
            "object_position": null,
            "order": null,
            "overflow": null,
            "overflow_x": null,
            "overflow_y": null,
            "padding": null,
            "right": null,
            "top": null,
            "visibility": null,
            "width": null
          }
        },
        "4f359f5d3e894303bfd8800349eb2e65": {
          "model_module": "@jupyter-widgets/controls",
          "model_name": "SliderStyleModel",
          "model_module_version": "1.5.0",
          "state": {
            "_model_module": "@jupyter-widgets/controls",
            "_model_module_version": "1.5.0",
            "_model_name": "SliderStyleModel",
            "_view_count": null,
            "_view_module": "@jupyter-widgets/base",
            "_view_module_version": "1.2.0",
            "_view_name": "StyleView",
            "description_width": "",
            "handle_color": null
          }
        },
        "15332e93b6a340438aace036ba6194bf": {
          "model_module": "@jupyter-widgets/base",
          "model_name": "LayoutModel",
          "model_module_version": "1.2.0",
          "state": {
            "_model_module": "@jupyter-widgets/base",
            "_model_module_version": "1.2.0",
            "_model_name": "LayoutModel",
            "_view_count": null,
            "_view_module": "@jupyter-widgets/base",
            "_view_module_version": "1.2.0",
            "_view_name": "LayoutView",
            "align_content": null,
            "align_items": null,
            "align_self": null,
            "border": null,
            "bottom": null,
            "display": null,
            "flex": null,
            "flex_flow": null,
            "grid_area": null,
            "grid_auto_columns": null,
            "grid_auto_flow": null,
            "grid_auto_rows": null,
            "grid_column": null,
            "grid_gap": null,
            "grid_row": null,
            "grid_template_areas": null,
            "grid_template_columns": null,
            "grid_template_rows": null,
            "height": null,
            "justify_content": null,
            "justify_items": null,
            "left": null,
            "margin": null,
            "max_height": null,
            "max_width": null,
            "min_height": null,
            "min_width": null,
            "object_fit": null,
            "object_position": null,
            "order": null,
            "overflow": null,
            "overflow_x": null,
            "overflow_y": null,
            "padding": null,
            "right": null,
            "top": null,
            "visibility": null,
            "width": null
          }
        },
        "bb3bc430cc454deba274fcea5a75f2c9": {
          "model_module": "@jupyter-widgets/controls",
          "model_name": "SliderStyleModel",
          "model_module_version": "1.5.0",
          "state": {
            "_model_module": "@jupyter-widgets/controls",
            "_model_module_version": "1.5.0",
            "_model_name": "SliderStyleModel",
            "_view_count": null,
            "_view_module": "@jupyter-widgets/base",
            "_view_module_version": "1.2.0",
            "_view_name": "StyleView",
            "description_width": "",
            "handle_color": null
          }
        },
        "c9c2850081c849b195e774ccd7f5eb52": {
          "model_module": "@jupyter-widgets/base",
          "model_name": "LayoutModel",
          "model_module_version": "1.2.0",
          "state": {
            "_model_module": "@jupyter-widgets/base",
            "_model_module_version": "1.2.0",
            "_model_name": "LayoutModel",
            "_view_count": null,
            "_view_module": "@jupyter-widgets/base",
            "_view_module_version": "1.2.0",
            "_view_name": "LayoutView",
            "align_content": null,
            "align_items": null,
            "align_self": null,
            "border": null,
            "bottom": null,
            "display": null,
            "flex": null,
            "flex_flow": null,
            "grid_area": null,
            "grid_auto_columns": null,
            "grid_auto_flow": null,
            "grid_auto_rows": null,
            "grid_column": null,
            "grid_gap": null,
            "grid_row": null,
            "grid_template_areas": null,
            "grid_template_columns": null,
            "grid_template_rows": null,
            "height": null,
            "justify_content": null,
            "justify_items": null,
            "left": null,
            "margin": null,
            "max_height": null,
            "max_width": null,
            "min_height": null,
            "min_width": null,
            "object_fit": null,
            "object_position": null,
            "order": null,
            "overflow": null,
            "overflow_x": null,
            "overflow_y": null,
            "padding": null,
            "right": null,
            "top": null,
            "visibility": null,
            "width": null
          }
        },
        "53c159a4b29940f4b24ea5a259776f07": {
          "model_module": "@jupyter-widgets/controls",
          "model_name": "SliderStyleModel",
          "model_module_version": "1.5.0",
          "state": {
            "_model_module": "@jupyter-widgets/controls",
            "_model_module_version": "1.5.0",
            "_model_name": "SliderStyleModel",
            "_view_count": null,
            "_view_module": "@jupyter-widgets/base",
            "_view_module_version": "1.2.0",
            "_view_name": "StyleView",
            "description_width": "",
            "handle_color": null
          }
        },
        "b005bec1f3064cf6a55bbfe7287f99f9": {
          "model_module": "@jupyter-widgets/base",
          "model_name": "LayoutModel",
          "model_module_version": "1.2.0",
          "state": {
            "_model_module": "@jupyter-widgets/base",
            "_model_module_version": "1.2.0",
            "_model_name": "LayoutModel",
            "_view_count": null,
            "_view_module": "@jupyter-widgets/base",
            "_view_module_version": "1.2.0",
            "_view_name": "LayoutView",
            "align_content": null,
            "align_items": null,
            "align_self": null,
            "border": null,
            "bottom": null,
            "display": null,
            "flex": null,
            "flex_flow": null,
            "grid_area": null,
            "grid_auto_columns": null,
            "grid_auto_flow": null,
            "grid_auto_rows": null,
            "grid_column": null,
            "grid_gap": null,
            "grid_row": null,
            "grid_template_areas": null,
            "grid_template_columns": null,
            "grid_template_rows": null,
            "height": null,
            "justify_content": null,
            "justify_items": null,
            "left": null,
            "margin": null,
            "max_height": null,
            "max_width": null,
            "min_height": null,
            "min_width": null,
            "object_fit": null,
            "object_position": null,
            "order": null,
            "overflow": null,
            "overflow_x": null,
            "overflow_y": null,
            "padding": null,
            "right": null,
            "top": null,
            "visibility": null,
            "width": null
          }
        }
      }
    }
  },
  "cells": [
    {
      "cell_type": "code",
      "execution_count": null,
      "metadata": {
        "id": "tTZe0ZeMtx1P"
      },
      "outputs": [],
      "source": [
        "from ipywidgets import interact\n",
        "from fastai.basics import *"
      ]
    },
    {
      "cell_type": "code",
      "source": [
        "plt.rc('figure', dpi=90) # dpi= dots per inch\n",
        "\n",
        "def plot_function(f, title=None, min=-2.1, max=2.1, color='r', ylim=None):\n",
        "    x = torch.linspace(min,max, 100)[:,None]\n",
        "    if ylim: plt.ylim(ylim)\n",
        "    plt.plot(x, f(x), color)\n",
        "    if title is not None: plt.title(title)"
      ],
      "metadata": {
        "id": "H5bkLsxzuH0s"
      },
      "execution_count": null,
      "outputs": []
    },
    {
      "cell_type": "code",
      "source": [
        "def f(x): return 3*x**2 + 2*x + 1"
      ],
      "metadata": {
        "id": "1wBoNV0ius7_"
      },
      "execution_count": null,
      "outputs": []
    },
    {
      "cell_type": "code",
      "source": [
        "plot_function(f, \"$3x^2 + 2x + 1$\")"
      ],
      "metadata": {
        "colab": {
          "base_uri": "https://localhost:8080/",
          "height": 412
        },
        "id": "NA5PaKG5uzMv",
        "outputId": "78e1e152-6acd-4ceb-e938-87429eac4d0f"
      },
      "execution_count": null,
      "outputs": [
        {
          "output_type": "display_data",
          "data": {
            "text/plain": [
              "<Figure size 576x432 with 1 Axes>"
            ],
            "image/png": "[encoded data removed]"
          },
          "metadata": {}
        }
      ]
    },
    {
      "cell_type": "code",
      "source": [
        "def quad(a, b, c, x): return a*x**2 + b*x + c"
      ],
      "metadata": {
        "id": "bMkiVhopu0-v"
      },
      "execution_count": null,
      "outputs": []
    },
    {
      "cell_type": "code",
      "source": [
        "from functools import partial\n",
        "def mk_quad(a,b,c): return partial(quad, a,b,c)"
      ],
      "metadata": {
        "id": "k-t7-E8Wu7c8"
      },
      "execution_count": null,
      "outputs": []
    },
    {
      "cell_type": "code",
      "source": [
        "f2 = mk_quad(3,2,1)\n",
        "plot_function(f2)"
      ],
      "metadata": {
        "colab": {
          "base_uri": "https://localhost:8080/",
          "height": 389
        },
        "id": "LsmgF4Oiu_dk",
        "outputId": "7243ba43-94c0-48c0-f4e1-496146d4520d"
      },
      "execution_count": null,
      "outputs": [
        {
          "output_type": "display_data",
          "data": {
            "text/plain": [
              "<Figure size 576x432 with 1 Axes>"
            ],
            "image/png": "[encoded data removed]"
          },
          "metadata": {}
        }
      ]
    },
    {
      "cell_type": "code",
      "source": [
        "def noise(x, scale): return np.random.normal(scale=scale, size=x.shape)\n",
        "def add_noise(x, mult, add): return x * (1+noise(x,mult)) + noise(x,add)"
      ],
      "metadata": {
        "id": "0iB4Za5IvoS-"
      },
      "execution_count": null,
      "outputs": []
    },
    {
      "cell_type": "code",
      "source": [
        "np.random.seed(42)\n",
        "\n",
        "x = torch.linspace(-2, 2, steps=20)[:,None]\n",
        "y = add_noise(f(x), 0.15, 1.5)"
      ],
      "metadata": {
        "colab": {
          "base_uri": "https://localhost:8080/"
        },
        "id": "_lIqVkSqv3PJ",
        "outputId": "011e9c4e-6f79-4abc-be45-865765c04992"
      },
      "execution_count": null,
      "outputs": [
        {
          "output_type": "stream",
          "name": "stderr",
          "text": [
            "/tmp/ipython-input-1958766108.py:2: DeprecationWarning: __array_wrap__ must accept context and return_scalar arguments (positionally) in the future. (Deprecated NumPy 2.0)\n",
            "  def add_noise(x, mult, add): return x * (1+noise(x,mult)) + noise(x,add)\n"
          ]
        }
      ]
    },
    {
      "cell_type": "code",
      "source": [
        "x[:5],y[:5]"
      ],
      "metadata": {
        "colab": {
          "base_uri": "https://localhost:8080/"
        },
        "id": "JfRdhCxwv6GJ",
        "outputId": "0ae1bc08-7f50-4caa-9c3f-157003a36f6b"
      },
      "execution_count": null,
      "outputs": [
        {
          "output_type": "execute_result",
          "data": {
            "text/plain": [
              "(tensor([[-2.0000],\n",
              "         [-1.7895],\n",
              "         [-1.5789],\n",
              "         [-1.3684],\n",
              "         [-1.1579]]),\n",
              " tensor([[11.8690],\n",
              "         [ 6.5433],\n",
              "         [ 5.9396],\n",
              "         [ 2.6304],\n",
              "         [ 1.7947]], dtype=torch.float64))"
            ]
          },
          "metadata": {},
          "execution_count": 11
        }
      ]
    },
    {
      "cell_type": "code",
      "source": [
        "plt.scatter(x,y);"
      ],
      "metadata": {
        "colab": {
          "base_uri": "https://localhost:8080/",
          "height": 389
        },
        "id": "N84nsNr-v74g",
        "outputId": "db6e0dc3-5445-477e-8a3f-af0baa5602d9"
      },
      "execution_count": null,
      "outputs": [
        {
          "output_type": "display_data",
          "data": {
            "text/plain": [
              "<Figure size 576x432 with 1 Axes>"
            ],
            "image/png": "[encoded data removed]"
          },
          "metadata": {}
        }
      ]
    },
    {
      "cell_type": "code",
      "source": [
        "@interact(a=1.1, b=1.1, c=1.1)\n",
        "def plot_quad(a, b, c):\n",
        "    plt.scatter(x,y)\n",
        "    plot_function(mk_quad(a,b,c), ylim=(-3,13))"
      ],
      "metadata": {
        "colab": {
          "base_uri": "https://localhost:8080/",
          "height": 485,
          "referenced_widgets": [
            "1f9839c08b1f4d489e456f64928c1e77",
            "97c698d11a4f4721bb61b91635f5561a",
            "915a3e2308844f68b4ececa98ba7759d",
            "47daa9128a704c45ac150223546f79fc",
            "4b600f2ad5104baca5da1a0e834b0033",
            "81767bf315fd4f908097843239a3ce58",
            "584fd9d850f2475da1c20b4eae532c83",
            "b4504ffd6ea44c2dbe2a868e717b26f8",
            "df656d8b261e445faf01fcd947149537",
            "3d2338f6936f4af1b2b769787b39c84f",
            "c8125fdd839a43f781f7a192a1331783",
            "775964d9275c4de5ab5af2c5603e7b61",
            "5cfb2a1f196a4ed484540941be7577c4"
          ]
        },
        "id": "xCQbrDOgwBAo",
        "outputId": "a965c457-352c-4a29-8034-7907fa2faa89"
      },
      "execution_count": null,
      "outputs": [
        {
          "output_type": "display_data",
          "data": {
            "text/plain": [
              "interactive(children=(FloatSlider(value=1.1, description='a', max=3.3000000000000003, min=-1.1), FloatSlider(v…"
            ],
            "application/vnd.jupyter.widget-view+json": {
              "version_major": 2,
              "version_minor": 0,
              "model_id": "1f9839c08b1f4d489e456f64928c1e77"
            }
          },
          "metadata": {}
        }
      ]
    },
    {
      "cell_type": "code",
      "source": [
        "def mae(preds, acts): return (torch.abs(preds-acts)).mean()"
      ],
      "metadata": {
        "id": "APpnYK7rwZ1G"
      },
      "execution_count": null,
      "outputs": []
    },
    {
      "cell_type": "code",
      "source": [
        "@interact(a=1.1, b=1.1, c=1.1)\n",
        "def plot_quad(a, b, c):\n",
        "    f = mk_quad(a,b,c)\n",
        "    plt.scatter(x,y)\n",
        "    loss = mae(f(x), y)\n",
        "    plot_function(f, ylim=(-3,12), title=f\"MAE: {loss:.2f}\")"
      ],
      "metadata": {
        "colab": {
          "base_uri": "https://localhost:8080/",
          "height": 504,
          "referenced_widgets": [
            "ac385fb7749b4bbe9c5d6a1219974907",
            "a43281614d914bf9b92abe520f3accb8",
            "a2f256d4a8f54e3490a565bf2af0c902",
            "adbe049fa2ad43b1ae2762d341b2b0a2",
            "87120c11a9bf490fbda9775a0bfaa194",
            "02ef0287b4f04c76869a3fe5a213132a",
            "7037ced1fcb247a385e87e51d124a779",
            "ed0d5b9ac95e429e80b4d2a2c432ae4f",
            "5de741425b324be09b0aec1dd4d1f320",
            "67ff5a1374b349c9b73aa6ea9924771b",
            "7557438ea1eb4544a7f7ddbf0de27e96",
            "5398bc06b98a409c9a55042808108a1e",
            "b4b5df19becc4ab3a3afe86962c2f2fb"
          ]
        },
        "id": "aplARGZZwjji",
        "outputId": "b0fb466f-d3d2-48e5-955f-5a065d82da12"
      },
      "execution_count": null,
      "outputs": [
        {
          "output_type": "display_data",
          "data": {
            "text/plain": [
              "interactive(children=(FloatSlider(value=1.1, description='a', max=3.3000000000000003, min=-1.1), FloatSlider(v…"
            ],
            "application/vnd.jupyter.widget-view+json": {
              "version_major": 2,
              "version_minor": 0,
              "model_id": "ac385fb7749b4bbe9c5d6a1219974907"
            }
          },
          "metadata": {}
        }
      ]
    },
    {
      "cell_type": "code",
      "source": [
        "def quad_mae(params):\n",
        "    f = mk_quad(*params)\n",
        "    return mae(f(x), y)"
      ],
      "metadata": {
        "id": "9nA93f4Qwmuz"
      },
      "execution_count": null,
      "outputs": []
    },
    {
      "cell_type": "code",
      "source": [
        "quad_mae([1.1, 1.1, 1.1])"
      ],
      "metadata": {
        "colab": {
          "base_uri": "https://localhost:8080/"
        },
        "id": "ggwFrVSgw-8D",
        "outputId": "12f267d6-f61a-48b9-a7c0-e13ad74a52ef"
      },
      "execution_count": null,
      "outputs": [
        {
          "output_type": "execute_result",
          "data": {
            "text/plain": [
              "tensor(2.4219, dtype=torch.float64)"
            ]
          },
          "metadata": {},
          "execution_count": 17
        }
      ]
    },
    {
      "cell_type": "code",
      "source": [
        "abc = torch.tensor([1.1,1.1,1.1])"
      ],
      "metadata": {
        "id": "wuzFFwQkxBZ-"
      },
      "execution_count": null,
      "outputs": []
    },
    {
      "cell_type": "code",
      "source": [
        "abc.requires_grad_()"
      ],
      "metadata": {
        "colab": {
          "base_uri": "https://localhost:8080/"
        },
        "id": "RKw8v3x_xEQF",
        "outputId": "f86e4ce5-b826-4329-dc23-37e884eb9db8"
      },
      "execution_count": null,
      "outputs": [
        {
          "output_type": "execute_result",
          "data": {
            "text/plain": [
              "tensor([1.1000, 1.1000, 1.1000], requires_grad=True)"
            ]
          },
          "metadata": {},
          "execution_count": 19
        }
      ]
    },
    {
      "cell_type": "code",
      "source": [
        "loss = quad_mae(abc)\n",
        "loss"
      ],
      "metadata": {
        "colab": {
          "base_uri": "https://localhost:8080/"
        },
        "id": "QP5p99LmxIan",
        "outputId": "921a7b1a-979f-4069-e6bc-df21604dfdfa"
      },
      "execution_count": null,
      "outputs": [
        {
          "output_type": "execute_result",
          "data": {
            "text/plain": [
              "tensor(2.4219, dtype=torch.float64, grad_fn=<MeanBackward0>)"
            ]
          },
          "metadata": {},
          "execution_count": 20
        }
      ]
    },
    {
      "cell_type": "code",
      "source": [
        "loss.backward()"
      ],
      "metadata": {
        "id": "ynWFzCLexK_6"
      },
      "execution_count": null,
      "outputs": []
    },
    {
      "cell_type": "code",
      "source": [
        "abc.grad"
      ],
      "metadata": {
        "colab": {
          "base_uri": "https://localhost:8080/"
        },
        "id": "-Qigb1FBxO86",
        "outputId": "5f7b25e8-7657-4c57-e7da-80ba065d622d"
      },
      "execution_count": null,
      "outputs": [
        {
          "output_type": "execute_result",
          "data": {
            "text/plain": [
              "tensor([-1.3529, -0.0316, -0.5000])"
            ]
          },
          "metadata": {},
          "execution_count": 22
        }
      ]
    },
    {
      "cell_type": "code",
      "source": [
        "with torch.no_grad():\n",
        "    abc -= abc.grad*0.01\n",
        "    loss = quad_mae(abc)\n",
        "\n",
        "print(f'loss={loss:.2f}')"
      ],
      "metadata": {
        "colab": {
          "base_uri": "https://localhost:8080/"
        },
        "id": "4X7wSJwqxQiT",
        "outputId": "373a1980-acd0-4d14-fe6b-412d748d5123"
      },
      "execution_count": null,
      "outputs": [
        {
          "output_type": "stream",
          "name": "stdout",
          "text": [
            "loss=2.40\n"
          ]
        }
      ]
    },
    {
      "cell_type": "markdown",
      "source": [
        "| Step | Code                     | Explanation                                                                          |\n",
        "| ---- | ------------------------ | ------------------------------------------------------------------------------------ |\n",
        "| 1    | `loss = quad_mae(abc)`   | Compute the current loss using the variable `abc`.                                   |\n",
        "| 2    | `loss.backward()`        | Calculate the gradient of the loss w.r.t. `abc`. The result is stored in `abc.grad`. |\n",
        "| 3    | `with torch.no_grad():`  | Temporarily stop PyTorch from tracking operations.                                   |\n",
        "| 4    | `abc -= abc.grad * 0.01` | Update `abc` manually using gradient descent (learning rate = 0.01).                 |\n",
        "| 5    | `print(...)`             | Show the current step and loss value.                                                |\n"
      ],
      "metadata": {
        "id": "iJJv3_zq4zw_"
      }
    },
    {
      "cell_type": "code",
      "source": [
        "for i in range(10):\n",
        "    loss = quad_mae(abc)\n",
        "    loss.backward()\n",
        "    with torch.no_grad(): abc -= abc.grad*0.01\n",
        "    print(f'step={i}; loss={loss:.2f}')"
      ],
      "metadata": {
        "colab": {
          "base_uri": "https://localhost:8080/"
        },
        "id": "oKg7GQ5Gxgd7",
        "outputId": "d43ac5dd-a5c1-472e-824e-ca534e20e583"
      },
      "execution_count": null,
      "outputs": [
        {
          "output_type": "stream",
          "name": "stdout",
          "text": [
            "step=0; loss=2.40\n",
            "step=1; loss=2.36\n",
            "step=2; loss=2.30\n",
            "step=3; loss=2.21\n",
            "step=4; loss=2.11\n",
            "step=5; loss=1.98\n",
            "step=6; loss=1.85\n",
            "step=7; loss=1.72\n",
            "step=8; loss=1.58\n",
            "step=9; loss=1.46\n"
          ]
        }
      ]
    },
    {
      "cell_type": "markdown",
      "source": [
        "**On adding torch.nograd:**\n",
        "\n",
        "* loss(abc) -> new loss value of new abc\n",
        "\n",
        "* loss.backward() -> d(loss)/d(abc)\n",
        "\n",
        "  ![image.png](data:image/png;base64,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)\n",
        "\n",
        "* abc -= abc.grad*0.01 -> updating abc value\n",
        "\n",
        "**If I dont put torch.no_grad:**\n",
        "\n",
        "* loss(abc) -> new loss value of new abc\n",
        "\n",
        "* loss.backward() -> d(loss)/d(old_abc) = d(loss)/d(abc) * d(abc)/d(old_abc)\n",
        "\n",
        "  ![image.png](data:image/png;base64,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)\n",
        "\n",
        "* abc -= abc.grad*0.01 -> updating abc value"
      ],
      "metadata": {
        "id": "MHpps5O57T9Z"
      }
    },
    {
      "cell_type": "markdown",
      "source": [
        "\n",
        "\n",
        "---\n",
        "\n",
        "\n",
        "**Approximation in Neural Network - Relu**\n",
        "\n",
        "The way a neural network approximates a function actually turns out to be very simple. The key trick is to combine two extremely basic steps:\n",
        "\n",
        "* Matrix multiplication, which is just multiplying things together and then adding them up\n",
        "* The function max(x, 0), which simply replaces all negative numbers with zero.\n",
        "\n",
        "In PyTorch, the function\n",
        " is written as np.clip(x,0). The combination of a linear function and this max() is called a rectified linear function, and it can be implemented like this:"
      ],
      "metadata": {
        "id": "9_m0eCnO8rbU"
      }
    },
    {
      "cell_type": "code",
      "source": [
        "def rectified_linear(m,b,x):\n",
        "    y = m*x+b\n",
        "    return torch.clip(y, 0.)"
      ],
      "metadata": {
        "id": "rgmKVDfyxpDE"
      },
      "execution_count": null,
      "outputs": []
    },
    {
      "cell_type": "code",
      "source": [
        "plot_function(partial(rectified_linear, 1,1))"
      ],
      "metadata": {
        "colab": {
          "base_uri": "https://localhost:8080/",
          "height": 389
        },
        "id": "tMWR9b9z913m",
        "outputId": "33114bea-b6e5-4769-ed58-b816a4d9a026"
      },
      "execution_count": null,
      "outputs": [
        {
          "output_type": "display_data",
          "data": {
            "text/plain": [
              "<Figure size 576x432 with 1 Axes>"
            ],
            "image/png": "[encoded data removed]"
          },
          "metadata": {}
        }
      ]
    },
    {
      "cell_type": "code",
      "source": [
        "import torch.nn.functional as F\n",
        "def rectified_linear2(m,b,x): return F.relu(m*x+b)\n",
        "plot_function(partial(rectified_linear2, 1,1))"
      ],
      "metadata": {
        "colab": {
          "base_uri": "https://localhost:8080/",
          "height": 389
        },
        "id": "03KY_2sf93VX",
        "outputId": "a8ac9e2e-8ab3-417f-92d2-2adade6047f9"
      },
      "execution_count": null,
      "outputs": [
        {
          "output_type": "display_data",
          "data": {
            "text/plain": [
              "<Figure size 576x432 with 1 Axes>"
            ],
            "image/png": "[encoded data removed]"
          },
          "metadata": {}
        }
      ]
    },
    {
      "cell_type": "code",
      "source": [
        "@interact(m=1.5, b=1.5)\n",
        "def plot_relu(m, b):\n",
        "    plot_function(partial(rectified_linear, m,b), ylim=(-1,4))"
      ],
      "metadata": {
        "colab": {
          "base_uri": "https://localhost:8080/",
          "height": 458,
          "referenced_widgets": [
            "6960759c87f14238a0e78d95655ffabb",
            "248d53dcf14542efb7dda16a5ef2b952",
            "a83593b38c814841a20097b6bbc6d8de",
            "37c939e223394b059673c5f7a40784ab",
            "8b7fe4ee47774209979517da48b6f1be",
            "21fd37b2ef11488a915877641b8bdd5a",
            "a39844a8660c4c848cb21cee7e0616e6",
            "7f968d0eadb54e4dbd23c89be9efe508",
            "1f53a47663ce459489a21a8ccdb9f42e",
            "8f23680621fd47d598b98d06b3608a31"
          ]
        },
        "id": "SSRxcb-L9-gQ",
        "outputId": "6c337c7e-13ba-4d4e-a227-43bb71bc62a1"
      },
      "execution_count": null,
      "outputs": [
        {
          "output_type": "display_data",
          "data": {
            "text/plain": [
              "interactive(children=(FloatSlider(value=1.5, description='m', max=4.5, min=-1.5), FloatSlider(value=1.5, descr…"
            ],
            "application/vnd.jupyter.widget-view+json": {
              "version_major": 2,
              "version_minor": 0,
              "model_id": "6960759c87f14238a0e78d95655ffabb"
            }
          },
          "metadata": {}
        }
      ]
    },
    {
      "cell_type": "code",
      "source": [
        "def double_relu(m1,b1,m2,b2,x):\n",
        "    return rectified_linear(m1,b1,x) + rectified_linear(m2,b2,x)\n",
        "\n",
        "@interact(m1=-1.5, b1=-1.5, m2=1.5, b2=1.5)\n",
        "def plot_double_relu(m1, b1, m2, b2):\n",
        "    plot_function(partial(double_relu, m1,b1,m2,b2), ylim=(-1,6))"
      ],
      "metadata": {
        "colab": {
          "base_uri": "https://localhost:8080/",
          "height": 522,
          "referenced_widgets": [
            "81e137474d684a1b90759a0a5521a0bd",
            "74472b681c3c4155b9e0e4f54fcef967",
            "ff270c4cd20145b49d1c572e72ffffa6",
            "1f05ff2360b747ac90da28517c6188b7",
            "171837b1e09a493fb0054fb024a69dea",
            "ca624a5969e84825a587e5a9d878a21d",
            "27511d1a96f149a489c43680a4521336",
            "c70497bb055148de9a9fae8a0c04a141",
            "289f9df3bab8477baf845b046de23780",
            "5d60ac1e9ca34932aa61148cfe126500",
            "4f359f5d3e894303bfd8800349eb2e65",
            "15332e93b6a340438aace036ba6194bf",
            "bb3bc430cc454deba274fcea5a75f2c9",
            "c9c2850081c849b195e774ccd7f5eb52",
            "53c159a4b29940f4b24ea5a259776f07",
            "b005bec1f3064cf6a55bbfe7287f99f9"
          ]
        },
        "id": "LWhE_h9U-Bed",
        "outputId": "2bc0792f-166a-4bf2-bb32-0ee81fe9a199"
      },
      "execution_count": null,
      "outputs": [
        {
          "output_type": "display_data",
          "data": {
            "text/plain": [
              "interactive(children=(FloatSlider(value=-1.5, description='m1', max=1.5, min=-4.5), FloatSlider(value=-1.5, de…"
            ],
            "application/vnd.jupyter.widget-view+json": {
              "version_major": 2,
              "version_minor": 0,
              "model_id": "81e137474d684a1b90759a0a5521a0bd"
            }
          },
          "metadata": {}
        }
      ]
    },
    {
      "cell_type": "code",
      "source": [],
      "metadata": {
        "id": "d2tgdM-i-JdN"
      },
      "execution_count": null,
      "outputs": []
    }
  ]
}